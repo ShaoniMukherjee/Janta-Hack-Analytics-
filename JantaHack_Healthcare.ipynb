{
 "cells": [
  {
   "cell_type": "code",
   "execution_count": 1,
   "metadata": {},
   "outputs": [],
   "source": [
    "import numpy as np\n",
    "import pandas as pd\n",
    "import lightgbm as lgb\n",
    "import pandas as pd\n",
    "import numpy as np\n",
    "from matplotlib import pyplot as plt\n",
    "from sklearn import preprocessing\n",
    "from sklearn.model_selection import train_test_split\n",
    "from sklearn.metrics import accuracy_score\n",
    "%matplotlib inline\n",
    "import warnings\n",
    "warnings.filterwarnings('ignore')"
   ]
  },
  {
   "cell_type": "code",
   "execution_count": 2,
   "metadata": {},
   "outputs": [],
   "source": [
    "df_Train = pd.read_csv(\"train.csv\")"
   ]
  },
  {
   "cell_type": "code",
   "execution_count": 3,
   "metadata": {},
   "outputs": [],
   "source": [
    "df_test = pd.read_csv(\"test.csv\")"
   ]
  },
  {
   "cell_type": "code",
   "execution_count": 5,
   "metadata": {},
   "outputs": [
    {
     "data": {
      "text/html": [
       "<div>\n",
       "<style scoped>\n",
       "    .dataframe tbody tr th:only-of-type {\n",
       "        vertical-align: middle;\n",
       "    }\n",
       "\n",
       "    .dataframe tbody tr th {\n",
       "        vertical-align: top;\n",
       "    }\n",
       "\n",
       "    .dataframe thead th {\n",
       "        text-align: right;\n",
       "    }\n",
       "</style>\n",
       "<table border=\"1\" class=\"dataframe\">\n",
       "  <thead>\n",
       "    <tr style=\"text-align: right;\">\n",
       "      <th></th>\n",
       "      <th>case_id</th>\n",
       "      <th>Hospital_code</th>\n",
       "      <th>Hospital_type_code</th>\n",
       "      <th>City_Code_Hospital</th>\n",
       "      <th>Hospital_region_code</th>\n",
       "      <th>Available Extra Rooms in Hospital</th>\n",
       "      <th>Department</th>\n",
       "      <th>Ward_Type</th>\n",
       "      <th>Ward_Facility_Code</th>\n",
       "      <th>Bed Grade</th>\n",
       "      <th>patientid</th>\n",
       "      <th>City_Code_Patient</th>\n",
       "      <th>Type of Admission</th>\n",
       "      <th>Severity of Illness</th>\n",
       "      <th>Visitors with Patient</th>\n",
       "      <th>Age</th>\n",
       "      <th>Admission_Deposit</th>\n",
       "      <th>Stay</th>\n",
       "    </tr>\n",
       "  </thead>\n",
       "  <tbody>\n",
       "    <tr>\n",
       "      <th>0</th>\n",
       "      <td>1</td>\n",
       "      <td>8</td>\n",
       "      <td>c</td>\n",
       "      <td>3</td>\n",
       "      <td>Z</td>\n",
       "      <td>3</td>\n",
       "      <td>radiotherapy</td>\n",
       "      <td>R</td>\n",
       "      <td>F</td>\n",
       "      <td>2.0</td>\n",
       "      <td>31397</td>\n",
       "      <td>7.0</td>\n",
       "      <td>Emergency</td>\n",
       "      <td>Extreme</td>\n",
       "      <td>2</td>\n",
       "      <td>51-60</td>\n",
       "      <td>4911.0</td>\n",
       "      <td>0-10</td>\n",
       "    </tr>\n",
       "    <tr>\n",
       "      <th>1</th>\n",
       "      <td>2</td>\n",
       "      <td>2</td>\n",
       "      <td>c</td>\n",
       "      <td>5</td>\n",
       "      <td>Z</td>\n",
       "      <td>2</td>\n",
       "      <td>radiotherapy</td>\n",
       "      <td>S</td>\n",
       "      <td>F</td>\n",
       "      <td>2.0</td>\n",
       "      <td>31397</td>\n",
       "      <td>7.0</td>\n",
       "      <td>Trauma</td>\n",
       "      <td>Extreme</td>\n",
       "      <td>2</td>\n",
       "      <td>51-60</td>\n",
       "      <td>5954.0</td>\n",
       "      <td>41-50</td>\n",
       "    </tr>\n",
       "    <tr>\n",
       "      <th>2</th>\n",
       "      <td>3</td>\n",
       "      <td>10</td>\n",
       "      <td>e</td>\n",
       "      <td>1</td>\n",
       "      <td>X</td>\n",
       "      <td>2</td>\n",
       "      <td>anesthesia</td>\n",
       "      <td>S</td>\n",
       "      <td>E</td>\n",
       "      <td>2.0</td>\n",
       "      <td>31397</td>\n",
       "      <td>7.0</td>\n",
       "      <td>Trauma</td>\n",
       "      <td>Extreme</td>\n",
       "      <td>2</td>\n",
       "      <td>51-60</td>\n",
       "      <td>4745.0</td>\n",
       "      <td>31-40</td>\n",
       "    </tr>\n",
       "    <tr>\n",
       "      <th>3</th>\n",
       "      <td>4</td>\n",
       "      <td>26</td>\n",
       "      <td>b</td>\n",
       "      <td>2</td>\n",
       "      <td>Y</td>\n",
       "      <td>2</td>\n",
       "      <td>radiotherapy</td>\n",
       "      <td>R</td>\n",
       "      <td>D</td>\n",
       "      <td>2.0</td>\n",
       "      <td>31397</td>\n",
       "      <td>7.0</td>\n",
       "      <td>Trauma</td>\n",
       "      <td>Extreme</td>\n",
       "      <td>2</td>\n",
       "      <td>51-60</td>\n",
       "      <td>7272.0</td>\n",
       "      <td>41-50</td>\n",
       "    </tr>\n",
       "    <tr>\n",
       "      <th>4</th>\n",
       "      <td>5</td>\n",
       "      <td>26</td>\n",
       "      <td>b</td>\n",
       "      <td>2</td>\n",
       "      <td>Y</td>\n",
       "      <td>2</td>\n",
       "      <td>radiotherapy</td>\n",
       "      <td>S</td>\n",
       "      <td>D</td>\n",
       "      <td>2.0</td>\n",
       "      <td>31397</td>\n",
       "      <td>7.0</td>\n",
       "      <td>Trauma</td>\n",
       "      <td>Extreme</td>\n",
       "      <td>2</td>\n",
       "      <td>51-60</td>\n",
       "      <td>5558.0</td>\n",
       "      <td>41-50</td>\n",
       "    </tr>\n",
       "  </tbody>\n",
       "</table>\n",
       "</div>"
      ],
      "text/plain": [
       "   case_id  Hospital_code Hospital_type_code  City_Code_Hospital  \\\n",
       "0        1              8                  c                   3   \n",
       "1        2              2                  c                   5   \n",
       "2        3             10                  e                   1   \n",
       "3        4             26                  b                   2   \n",
       "4        5             26                  b                   2   \n",
       "\n",
       "  Hospital_region_code  Available Extra Rooms in Hospital    Department  \\\n",
       "0                    Z                                  3  radiotherapy   \n",
       "1                    Z                                  2  radiotherapy   \n",
       "2                    X                                  2    anesthesia   \n",
       "3                    Y                                  2  radiotherapy   \n",
       "4                    Y                                  2  radiotherapy   \n",
       "\n",
       "  Ward_Type Ward_Facility_Code  Bed Grade  patientid  City_Code_Patient  \\\n",
       "0         R                  F        2.0      31397                7.0   \n",
       "1         S                  F        2.0      31397                7.0   \n",
       "2         S                  E        2.0      31397                7.0   \n",
       "3         R                  D        2.0      31397                7.0   \n",
       "4         S                  D        2.0      31397                7.0   \n",
       "\n",
       "  Type of Admission Severity of Illness  Visitors with Patient    Age  \\\n",
       "0         Emergency             Extreme                      2  51-60   \n",
       "1            Trauma             Extreme                      2  51-60   \n",
       "2            Trauma             Extreme                      2  51-60   \n",
       "3            Trauma             Extreme                      2  51-60   \n",
       "4            Trauma             Extreme                      2  51-60   \n",
       "\n",
       "   Admission_Deposit   Stay  \n",
       "0             4911.0   0-10  \n",
       "1             5954.0  41-50  \n",
       "2             4745.0  31-40  \n",
       "3             7272.0  41-50  \n",
       "4             5558.0  41-50  "
      ]
     },
     "execution_count": 5,
     "metadata": {},
     "output_type": "execute_result"
    }
   ],
   "source": [
    "df_Train.head()"
   ]
  },
  {
   "cell_type": "code",
   "execution_count": 7,
   "metadata": {},
   "outputs": [
    {
     "data": {
      "text/plain": [
       "(318438, 18)"
      ]
     },
     "execution_count": 7,
     "metadata": {},
     "output_type": "execute_result"
    }
   ],
   "source": [
    "df_Train.shape"
   ]
  },
  {
   "cell_type": "code",
   "execution_count": 8,
   "metadata": {},
   "outputs": [
    {
     "data": {
      "text/plain": [
       "(137057, 17)"
      ]
     },
     "execution_count": 8,
     "metadata": {},
     "output_type": "execute_result"
    }
   ],
   "source": [
    "df_test.shape"
   ]
  },
  {
   "cell_type": "code",
   "execution_count": 9,
   "metadata": {},
   "outputs": [
    {
     "data": {
      "text/plain": [
       "case_id                                 0\n",
       "Hospital_code                           0\n",
       "Hospital_type_code                      0\n",
       "City_Code_Hospital                      0\n",
       "Hospital_region_code                    0\n",
       "Available Extra Rooms in Hospital       0\n",
       "Department                              0\n",
       "Ward_Type                               0\n",
       "Ward_Facility_Code                      0\n",
       "Bed Grade                             113\n",
       "patientid                               0\n",
       "City_Code_Patient                    4532\n",
       "Type of Admission                       0\n",
       "Severity of Illness                     0\n",
       "Visitors with Patient                   0\n",
       "Age                                     0\n",
       "Admission_Deposit                       0\n",
       "Stay                                    0\n",
       "dtype: int64"
      ]
     },
     "execution_count": 9,
     "metadata": {},
     "output_type": "execute_result"
    }
   ],
   "source": [
    "df_Train.isnull().sum()"
   ]
  },
  {
   "cell_type": "code",
   "execution_count": 10,
   "metadata": {},
   "outputs": [
    {
     "data": {
      "text/plain": [
       "case_id                                 0\n",
       "Hospital_code                           0\n",
       "Hospital_type_code                      0\n",
       "City_Code_Hospital                      0\n",
       "Hospital_region_code                    0\n",
       "Available Extra Rooms in Hospital       0\n",
       "Department                              0\n",
       "Ward_Type                               0\n",
       "Ward_Facility_Code                      0\n",
       "Bed Grade                              35\n",
       "patientid                               0\n",
       "City_Code_Patient                    2157\n",
       "Type of Admission                       0\n",
       "Severity of Illness                     0\n",
       "Visitors with Patient                   0\n",
       "Age                                     0\n",
       "Admission_Deposit                       0\n",
       "dtype: int64"
      ]
     },
     "execution_count": 10,
     "metadata": {},
     "output_type": "execute_result"
    }
   ],
   "source": [
    "df_test.isnull().sum()"
   ]
  },
  {
   "cell_type": "code",
   "execution_count": 11,
   "metadata": {},
   "outputs": [
    {
     "data": {
      "text/plain": [
       "array(['0-10', '41-50', '31-40', '11-20', '51-60', '21-30', '71-80',\n",
       "       'More than 100 Days', '81-90', '61-70', '91-100'], dtype=object)"
      ]
     },
     "execution_count": 11,
     "metadata": {},
     "output_type": "execute_result"
    }
   ],
   "source": [
    "df_Train['Stay'].unique()"
   ]
  },
  {
   "cell_type": "code",
   "execution_count": 23,
   "metadata": {},
   "outputs": [
    {
     "data": {
      "text/plain": [
       "<matplotlib.axes._subplots.AxesSubplot at 0x2a9863099c8>"
      ]
     },
     "execution_count": 23,
     "metadata": {},
     "output_type": "execute_result"
    },
    {
     "data": {
      "image/png": "[encoded data removed]",
      "text/plain": [
       "<Figure size 1152x432 with 1 Axes>"
      ]
     },
     "metadata": {},
     "output_type": "display_data"
    }
   ],
   "source": [
    "#Visualizing the \"stay\" column\n",
    "plt.figure(figsize=(16, 6))\n",
    "sns.set_style('whitegrid')\n",
    "sns.countplot(x='Stay',data=df_Train)"
   ]
  },
  {
   "cell_type": "code",
   "execution_count": 21,
   "metadata": {},
   "outputs": [
    {
     "data": {
      "text/plain": [
       "<matplotlib.axes._subplots.AxesSubplot at 0x2a98626cac8>"
      ]
     },
     "execution_count": 21,
     "metadata": {},
     "output_type": "execute_result"
    },
    {
     "data": {
      "image/png": "[encoded data removed]",
      "text/plain": [
       "<Figure size 1440x720 with 1 Axes>"
      ]
     },
     "metadata": {},
     "output_type": "display_data"
    }
   ],
   "source": [
    "df_Train['Stay'].value_counts().plot(kind='barh', figsize=(20,10))\n"
   ]
  },
  {
   "cell_type": "code",
   "execution_count": 22,
   "metadata": {},
   "outputs": [
    {
     "data": {
      "text/plain": [
       "Moderate    175843\n",
       "Minor        85872\n",
       "Extreme      56723\n",
       "Name: Severity of Illness, dtype: int64"
      ]
     },
     "execution_count": 22,
     "metadata": {},
     "output_type": "execute_result"
    }
   ],
   "source": [
    "df_Train['Severity of Illness'].value_counts()"
   ]
  },
  {
   "cell_type": "code",
   "execution_count": 24,
   "metadata": {},
   "outputs": [],
   "source": [
    "from sklearn.preprocessing import LabelEncoder, StandardScaler\n",
    "\n",
    "le = LabelEncoder()\n",
    "df_Train['Stay'] = le.fit_transform(df_Train['Stay'])"
   ]
  },
  {
   "cell_type": "code",
   "execution_count": 25,
   "metadata": {},
   "outputs": [
    {
     "data": {
      "text/plain": [
       "2     87491\n",
       "1     78139\n",
       "3     55159\n",
       "5     35018\n",
       "0     23604\n",
       "4     11743\n",
       "7     10254\n",
       "10     6683\n",
       "8      4838\n",
       "9      2765\n",
       "6      2744\n",
       "Name: Stay, dtype: int64"
      ]
     },
     "execution_count": 25,
     "metadata": {},
     "output_type": "execute_result"
    }
   ],
   "source": [
    "df_Train['Stay'].value_counts()"
   ]
  },
  {
   "cell_type": "code",
   "execution_count": 26,
   "metadata": {},
   "outputs": [
    {
     "data": {
      "text/plain": [
       "<matplotlib.axes._subplots.AxesSubplot at 0x2a9863769c8>"
      ]
     },
     "execution_count": 26,
     "metadata": {},
     "output_type": "execute_result"
    },
    {
     "data": {
      "image/png": "[encoded data removed]",
      "text/plain": [
       "<Figure size 432x288 with 1 Axes>"
      ]
     },
     "metadata": {},
     "output_type": "display_data"
    }
   ],
   "source": [
    "sns.set_style('whitegrid')\n",
    "sns.countplot(x='Stay',hue='Severity of Illness',data=df_Train)"
   ]
  },
  {
   "cell_type": "code",
   "execution_count": 27,
   "metadata": {},
   "outputs": [
    {
     "data": {
      "text/plain": [
       "Trauma       152261\n",
       "Emergency    117676\n",
       "Urgent        48501\n",
       "Name: Type of Admission, dtype: int64"
      ]
     },
     "execution_count": 27,
     "metadata": {},
     "output_type": "execute_result"
    }
   ],
   "source": [
    "df_Train['Type of Admission'].value_counts()"
   ]
  },
  {
   "cell_type": "code",
   "execution_count": 29,
   "metadata": {},
   "outputs": [
    {
     "name": "stdout",
     "output_type": "stream",
     "text": [
      "(318438, 19) (137057, 19)\n",
      "(455495, 19)\n"
     ]
    }
   ],
   "source": [
    "df_Train['train_flag'] = 1\n",
    "df_test['train_flag'] = 0\n",
    "df_test['Stay'] = None\n",
    "print(df_Train.shape, df_test.shape)\n",
    "\n",
    "df_data = pd.concat((df_Train, df_test))\n",
    "print(df_data.shape)"
   ]
  },
  {
   "cell_type": "code",
   "execution_count": 30,
   "metadata": {},
   "outputs": [
    {
     "data": {
      "text/html": [
       "<div>\n",
       "<style scoped>\n",
       "    .dataframe tbody tr th:only-of-type {\n",
       "        vertical-align: middle;\n",
       "    }\n",
       "\n",
       "    .dataframe tbody tr th {\n",
       "        vertical-align: top;\n",
       "    }\n",
       "\n",
       "    .dataframe thead th {\n",
       "        text-align: right;\n",
       "    }\n",
       "</style>\n",
       "<table border=\"1\" class=\"dataframe\">\n",
       "  <thead>\n",
       "    <tr style=\"text-align: right;\">\n",
       "      <th></th>\n",
       "      <th>case_id</th>\n",
       "      <th>Hospital_code</th>\n",
       "      <th>Hospital_type_code</th>\n",
       "      <th>City_Code_Hospital</th>\n",
       "      <th>Hospital_region_code</th>\n",
       "      <th>Available Extra Rooms in Hospital</th>\n",
       "      <th>Department</th>\n",
       "      <th>Ward_Type</th>\n",
       "      <th>Ward_Facility_Code</th>\n",
       "      <th>Bed Grade</th>\n",
       "      <th>patientid</th>\n",
       "      <th>City_Code_Patient</th>\n",
       "      <th>Type of Admission</th>\n",
       "      <th>Severity of Illness</th>\n",
       "      <th>Visitors with Patient</th>\n",
       "      <th>Age</th>\n",
       "      <th>Admission_Deposit</th>\n",
       "      <th>Stay</th>\n",
       "      <th>train_flag</th>\n",
       "    </tr>\n",
       "  </thead>\n",
       "  <tbody>\n",
       "    <tr>\n",
       "      <th>0</th>\n",
       "      <td>1</td>\n",
       "      <td>8</td>\n",
       "      <td>c</td>\n",
       "      <td>3</td>\n",
       "      <td>Z</td>\n",
       "      <td>3</td>\n",
       "      <td>radiotherapy</td>\n",
       "      <td>R</td>\n",
       "      <td>F</td>\n",
       "      <td>2.0</td>\n",
       "      <td>31397</td>\n",
       "      <td>7.0</td>\n",
       "      <td>Emergency</td>\n",
       "      <td>Extreme</td>\n",
       "      <td>2</td>\n",
       "      <td>51-60</td>\n",
       "      <td>4911.0</td>\n",
       "      <td>0</td>\n",
       "      <td>1</td>\n",
       "    </tr>\n",
       "    <tr>\n",
       "      <th>1</th>\n",
       "      <td>2</td>\n",
       "      <td>2</td>\n",
       "      <td>c</td>\n",
       "      <td>5</td>\n",
       "      <td>Z</td>\n",
       "      <td>2</td>\n",
       "      <td>radiotherapy</td>\n",
       "      <td>S</td>\n",
       "      <td>F</td>\n",
       "      <td>2.0</td>\n",
       "      <td>31397</td>\n",
       "      <td>7.0</td>\n",
       "      <td>Trauma</td>\n",
       "      <td>Extreme</td>\n",
       "      <td>2</td>\n",
       "      <td>51-60</td>\n",
       "      <td>5954.0</td>\n",
       "      <td>4</td>\n",
       "      <td>1</td>\n",
       "    </tr>\n",
       "    <tr>\n",
       "      <th>2</th>\n",
       "      <td>3</td>\n",
       "      <td>10</td>\n",
       "      <td>e</td>\n",
       "      <td>1</td>\n",
       "      <td>X</td>\n",
       "      <td>2</td>\n",
       "      <td>anesthesia</td>\n",
       "      <td>S</td>\n",
       "      <td>E</td>\n",
       "      <td>2.0</td>\n",
       "      <td>31397</td>\n",
       "      <td>7.0</td>\n",
       "      <td>Trauma</td>\n",
       "      <td>Extreme</td>\n",
       "      <td>2</td>\n",
       "      <td>51-60</td>\n",
       "      <td>4745.0</td>\n",
       "      <td>3</td>\n",
       "      <td>1</td>\n",
       "    </tr>\n",
       "    <tr>\n",
       "      <th>3</th>\n",
       "      <td>4</td>\n",
       "      <td>26</td>\n",
       "      <td>b</td>\n",
       "      <td>2</td>\n",
       "      <td>Y</td>\n",
       "      <td>2</td>\n",
       "      <td>radiotherapy</td>\n",
       "      <td>R</td>\n",
       "      <td>D</td>\n",
       "      <td>2.0</td>\n",
       "      <td>31397</td>\n",
       "      <td>7.0</td>\n",
       "      <td>Trauma</td>\n",
       "      <td>Extreme</td>\n",
       "      <td>2</td>\n",
       "      <td>51-60</td>\n",
       "      <td>7272.0</td>\n",
       "      <td>4</td>\n",
       "      <td>1</td>\n",
       "    </tr>\n",
       "    <tr>\n",
       "      <th>4</th>\n",
       "      <td>5</td>\n",
       "      <td>26</td>\n",
       "      <td>b</td>\n",
       "      <td>2</td>\n",
       "      <td>Y</td>\n",
       "      <td>2</td>\n",
       "      <td>radiotherapy</td>\n",
       "      <td>S</td>\n",
       "      <td>D</td>\n",
       "      <td>2.0</td>\n",
       "      <td>31397</td>\n",
       "      <td>7.0</td>\n",
       "      <td>Trauma</td>\n",
       "      <td>Extreme</td>\n",
       "      <td>2</td>\n",
       "      <td>51-60</td>\n",
       "      <td>5558.0</td>\n",
       "      <td>4</td>\n",
       "      <td>1</td>\n",
       "    </tr>\n",
       "  </tbody>\n",
       "</table>\n",
       "</div>"
      ],
      "text/plain": [
       "   case_id  Hospital_code Hospital_type_code  City_Code_Hospital  \\\n",
       "0        1              8                  c                   3   \n",
       "1        2              2                  c                   5   \n",
       "2        3             10                  e                   1   \n",
       "3        4             26                  b                   2   \n",
       "4        5             26                  b                   2   \n",
       "\n",
       "  Hospital_region_code  Available Extra Rooms in Hospital    Department  \\\n",
       "0                    Z                                  3  radiotherapy   \n",
       "1                    Z                                  2  radiotherapy   \n",
       "2                    X                                  2    anesthesia   \n",
       "3                    Y                                  2  radiotherapy   \n",
       "4                    Y                                  2  radiotherapy   \n",
       "\n",
       "  Ward_Type Ward_Facility_Code  Bed Grade  patientid  City_Code_Patient  \\\n",
       "0         R                  F        2.0      31397                7.0   \n",
       "1         S                  F        2.0      31397                7.0   \n",
       "2         S                  E        2.0      31397                7.0   \n",
       "3         R                  D        2.0      31397                7.0   \n",
       "4         S                  D        2.0      31397                7.0   \n",
       "\n",
       "  Type of Admission Severity of Illness  Visitors with Patient    Age  \\\n",
       "0         Emergency             Extreme                      2  51-60   \n",
       "1            Trauma             Extreme                      2  51-60   \n",
       "2            Trauma             Extreme                      2  51-60   \n",
       "3            Trauma             Extreme                      2  51-60   \n",
       "4            Trauma             Extreme                      2  51-60   \n",
       "\n",
       "   Admission_Deposit Stay  train_flag  \n",
       "0             4911.0    0           1  \n",
       "1             5954.0    4           1  \n",
       "2             4745.0    3           1  \n",
       "3             7272.0    4           1  \n",
       "4             5558.0    4           1  "
      ]
     },
     "execution_count": 30,
     "metadata": {},
     "output_type": "execute_result"
    }
   ],
   "source": [
    "df_data.head()"
   ]
  },
  {
   "cell_type": "code",
   "execution_count": 31,
   "metadata": {},
   "outputs": [],
   "source": [
    "df_data.drop(['case_id','patientid'],axis=1,inplace=True)"
   ]
  },
  {
   "cell_type": "code",
   "execution_count": 33,
   "metadata": {},
   "outputs": [
    {
     "data": {
      "text/plain": [
       "Hospital_code                          int64\n",
       "Hospital_type_code                    object\n",
       "City_Code_Hospital                     int64\n",
       "Hospital_region_code                  object\n",
       "Available Extra Rooms in Hospital      int64\n",
       "Department                            object\n",
       "Ward_Type                             object\n",
       "Ward_Facility_Code                    object\n",
       "Bed Grade                            float64\n",
       "City_Code_Patient                    float64\n",
       "Type of Admission                     object\n",
       "Severity of Illness                   object\n",
       "Visitors with Patient                  int64\n",
       "Age                                   object\n",
       "Admission_Deposit                    float64\n",
       "Stay                                  object\n",
       "train_flag                             int64\n",
       "dtype: object"
      ]
     },
     "execution_count": 33,
     "metadata": {},
     "output_type": "execute_result"
    }
   ],
   "source": [
    "df_data.dtypes"
   ]
  },
  {
   "cell_type": "code",
   "execution_count": 34,
   "metadata": {},
   "outputs": [
    {
     "data": {
      "text/plain": [
       "array([ 2.,  3.,  4.,  1., nan])"
      ]
     },
     "execution_count": 34,
     "metadata": {},
     "output_type": "execute_result"
    }
   ],
   "source": [
    "df_data['Bed Grade'].unique()"
   ]
  },
  {
   "cell_type": "code",
   "execution_count": 37,
   "metadata": {},
   "outputs": [
    {
     "data": {
      "text/plain": [
       "<matplotlib.axes._subplots.AxesSubplot at 0x2a987ccce08>"
      ]
     },
     "execution_count": 37,
     "metadata": {},
     "output_type": "execute_result"
    },
    {
     "data": {
      "image/png": "[encoded data removed]",
      "text/plain": [
       "<Figure size 432x288 with 1 Axes>"
      ]
     },
     "metadata": {},
     "output_type": "display_data"
    }
   ],
   "source": [
    "sns.set_style('whitegrid')\n",
    "sns.countplot(x='Bed Grade',data=df_data)"
   ]
  },
  {
   "cell_type": "code",
   "execution_count": 38,
   "metadata": {},
   "outputs": [],
   "source": [
    "df_data['Bed Grade']=np.where(df_data['Bed Grade'].isna(),1.0,df_data['Bed Grade'])"
   ]
  },
  {
   "cell_type": "code",
   "execution_count": 39,
   "metadata": {},
   "outputs": [],
   "source": [
    "df_data['City_Code_Patient'] = np.where(df_data['City_Code_Patient'].isna(),0.0,df_data['City_Code_Patient'])\n"
   ]
  },
  {
   "cell_type": "code",
   "execution_count": 40,
   "metadata": {},
   "outputs": [],
   "source": [
    "df_data['Bed Grade']=df_data['Bed Grade'].astype(int)\n",
    "df_data['City_Code_Patient']=df_data['City_Code_Patient'].astype(int)\n",
    "df_data['Admission_Deposit']=df_data['Admission_Deposit'].astype(int)"
   ]
  },
  {
   "cell_type": "code",
   "execution_count": 41,
   "metadata": {},
   "outputs": [
    {
     "data": {
      "text/html": [
       "<div>\n",
       "<style scoped>\n",
       "    .dataframe tbody tr th:only-of-type {\n",
       "        vertical-align: middle;\n",
       "    }\n",
       "\n",
       "    .dataframe tbody tr th {\n",
       "        vertical-align: top;\n",
       "    }\n",
       "\n",
       "    .dataframe thead th {\n",
       "        text-align: right;\n",
       "    }\n",
       "</style>\n",
       "<table border=\"1\" class=\"dataframe\">\n",
       "  <thead>\n",
       "    <tr style=\"text-align: right;\">\n",
       "      <th></th>\n",
       "      <th>Hospital_code</th>\n",
       "      <th>Hospital_type_code</th>\n",
       "      <th>City_Code_Hospital</th>\n",
       "      <th>Hospital_region_code</th>\n",
       "      <th>Available Extra Rooms in Hospital</th>\n",
       "      <th>Department</th>\n",
       "      <th>Ward_Type</th>\n",
       "      <th>Ward_Facility_Code</th>\n",
       "      <th>Bed Grade</th>\n",
       "      <th>City_Code_Patient</th>\n",
       "      <th>Type of Admission</th>\n",
       "      <th>Severity of Illness</th>\n",
       "      <th>Visitors with Patient</th>\n",
       "      <th>Age</th>\n",
       "      <th>Admission_Deposit</th>\n",
       "      <th>Stay</th>\n",
       "      <th>train_flag</th>\n",
       "    </tr>\n",
       "  </thead>\n",
       "  <tbody>\n",
       "    <tr>\n",
       "      <th>0</th>\n",
       "      <td>8</td>\n",
       "      <td>c</td>\n",
       "      <td>3</td>\n",
       "      <td>Z</td>\n",
       "      <td>3</td>\n",
       "      <td>radiotherapy</td>\n",
       "      <td>R</td>\n",
       "      <td>F</td>\n",
       "      <td>2</td>\n",
       "      <td>7</td>\n",
       "      <td>Emergency</td>\n",
       "      <td>Extreme</td>\n",
       "      <td>2</td>\n",
       "      <td>51-60</td>\n",
       "      <td>4911</td>\n",
       "      <td>0</td>\n",
       "      <td>1</td>\n",
       "    </tr>\n",
       "    <tr>\n",
       "      <th>1</th>\n",
       "      <td>2</td>\n",
       "      <td>c</td>\n",
       "      <td>5</td>\n",
       "      <td>Z</td>\n",
       "      <td>2</td>\n",
       "      <td>radiotherapy</td>\n",
       "      <td>S</td>\n",
       "      <td>F</td>\n",
       "      <td>2</td>\n",
       "      <td>7</td>\n",
       "      <td>Trauma</td>\n",
       "      <td>Extreme</td>\n",
       "      <td>2</td>\n",
       "      <td>51-60</td>\n",
       "      <td>5954</td>\n",
       "      <td>4</td>\n",
       "      <td>1</td>\n",
       "    </tr>\n",
       "    <tr>\n",
       "      <th>2</th>\n",
       "      <td>10</td>\n",
       "      <td>e</td>\n",
       "      <td>1</td>\n",
       "      <td>X</td>\n",
       "      <td>2</td>\n",
       "      <td>anesthesia</td>\n",
       "      <td>S</td>\n",
       "      <td>E</td>\n",
       "      <td>2</td>\n",
       "      <td>7</td>\n",
       "      <td>Trauma</td>\n",
       "      <td>Extreme</td>\n",
       "      <td>2</td>\n",
       "      <td>51-60</td>\n",
       "      <td>4745</td>\n",
       "      <td>3</td>\n",
       "      <td>1</td>\n",
       "    </tr>\n",
       "    <tr>\n",
       "      <th>3</th>\n",
       "      <td>26</td>\n",
       "      <td>b</td>\n",
       "      <td>2</td>\n",
       "      <td>Y</td>\n",
       "      <td>2</td>\n",
       "      <td>radiotherapy</td>\n",
       "      <td>R</td>\n",
       "      <td>D</td>\n",
       "      <td>2</td>\n",
       "      <td>7</td>\n",
       "      <td>Trauma</td>\n",
       "      <td>Extreme</td>\n",
       "      <td>2</td>\n",
       "      <td>51-60</td>\n",
       "      <td>7272</td>\n",
       "      <td>4</td>\n",
       "      <td>1</td>\n",
       "    </tr>\n",
       "    <tr>\n",
       "      <th>4</th>\n",
       "      <td>26</td>\n",
       "      <td>b</td>\n",
       "      <td>2</td>\n",
       "      <td>Y</td>\n",
       "      <td>2</td>\n",
       "      <td>radiotherapy</td>\n",
       "      <td>S</td>\n",
       "      <td>D</td>\n",
       "      <td>2</td>\n",
       "      <td>7</td>\n",
       "      <td>Trauma</td>\n",
       "      <td>Extreme</td>\n",
       "      <td>2</td>\n",
       "      <td>51-60</td>\n",
       "      <td>5558</td>\n",
       "      <td>4</td>\n",
       "      <td>1</td>\n",
       "    </tr>\n",
       "  </tbody>\n",
       "</table>\n",
       "</div>"
      ],
      "text/plain": [
       "   Hospital_code Hospital_type_code  City_Code_Hospital Hospital_region_code  \\\n",
       "0              8                  c                   3                    Z   \n",
       "1              2                  c                   5                    Z   \n",
       "2             10                  e                   1                    X   \n",
       "3             26                  b                   2                    Y   \n",
       "4             26                  b                   2                    Y   \n",
       "\n",
       "   Available Extra Rooms in Hospital    Department Ward_Type  \\\n",
       "0                                  3  radiotherapy         R   \n",
       "1                                  2  radiotherapy         S   \n",
       "2                                  2    anesthesia         S   \n",
       "3                                  2  radiotherapy         R   \n",
       "4                                  2  radiotherapy         S   \n",
       "\n",
       "  Ward_Facility_Code  Bed Grade  City_Code_Patient Type of Admission  \\\n",
       "0                  F          2                  7         Emergency   \n",
       "1                  F          2                  7            Trauma   \n",
       "2                  E          2                  7            Trauma   \n",
       "3                  D          2                  7            Trauma   \n",
       "4                  D          2                  7            Trauma   \n",
       "\n",
       "  Severity of Illness  Visitors with Patient    Age  Admission_Deposit Stay  \\\n",
       "0             Extreme                      2  51-60               4911    0   \n",
       "1             Extreme                      2  51-60               5954    4   \n",
       "2             Extreme                      2  51-60               4745    3   \n",
       "3             Extreme                      2  51-60               7272    4   \n",
       "4             Extreme                      2  51-60               5558    4   \n",
       "\n",
       "   train_flag  \n",
       "0           1  \n",
       "1           1  \n",
       "2           1  \n",
       "3           1  \n",
       "4           1  "
      ]
     },
     "execution_count": 41,
     "metadata": {},
     "output_type": "execute_result"
    }
   ],
   "source": [
    "df_data.head()"
   ]
  },
  {
   "cell_type": "code",
   "execution_count": 43,
   "metadata": {},
   "outputs": [
    {
     "data": {
      "text/plain": [
       "Index(['Hospital_code', 'Hospital_type_code', 'City_Code_Hospital',\n",
       "       'Hospital_region_code', 'Available Extra Rooms in Hospital',\n",
       "       'Department', 'Ward_Type', 'Ward_Facility_Code', 'Bed Grade',\n",
       "       'City_Code_Patient', 'Type of Admission', 'Severity of Illness',\n",
       "       'Visitors with Patient', 'Age', 'Admission_Deposit', 'Stay',\n",
       "       'train_flag'],\n",
       "      dtype='object')"
      ]
     },
     "execution_count": 43,
     "metadata": {},
     "output_type": "execute_result"
    }
   ],
   "source": [
    "df_data.columns"
   ]
  },
  {
   "cell_type": "code",
   "execution_count": 44,
   "metadata": {},
   "outputs": [
    {
     "data": {
      "text/plain": [
       "Index(['Hospital_type_code', 'Hospital_region_code', 'Department', 'Ward_Type',\n",
       "       'Ward_Facility_Code', 'Type of Admission', 'Severity of Illness', 'Age',\n",
       "       'Stay'],\n",
       "      dtype='object')"
      ]
     },
     "execution_count": 44,
     "metadata": {},
     "output_type": "execute_result"
    }
   ],
   "source": [
    "cat=df_data.select_dtypes(['object']).columns\n",
    "cat"
   ]
  },
  {
   "cell_type": "code",
   "execution_count": 46,
   "metadata": {},
   "outputs": [
    {
     "data": {
      "text/plain": [
       "9"
      ]
     },
     "execution_count": 46,
     "metadata": {},
     "output_type": "execute_result"
    }
   ],
   "source": [
    "len(cat)"
   ]
  },
  {
   "cell_type": "code",
   "execution_count": 47,
   "metadata": {},
   "outputs": [
    {
     "data": {
      "text/plain": [
       "Index(['Hospital_type_code', 'Hospital_region_code', 'Department', 'Ward_Type',\n",
       "       'Ward_Facility_Code', 'Type of Admission', 'Severity of Illness',\n",
       "       'Age'],\n",
       "      dtype='object')"
      ]
     },
     "execution_count": 47,
     "metadata": {},
     "output_type": "execute_result"
    }
   ],
   "source": [
    "cat=cat[:-1]\n",
    "cat"
   ]
  },
  {
   "cell_type": "code",
   "execution_count": 49,
   "metadata": {},
   "outputs": [],
   "source": [
    "df_data=pd.get_dummies(data=df_data,columns=['Hospital_type_code', 'Hospital_region_code', 'Department', 'Ward_Type',\n",
    "       'Ward_Facility_Code', 'Type of Admission', 'Severity of Illness',\n",
    "       'Age'])"
   ]
  },
  {
   "cell_type": "code",
   "execution_count": 51,
   "metadata": {},
   "outputs": [
    {
     "data": {
      "text/plain": [
       "(455495, 52)"
      ]
     },
     "execution_count": 51,
     "metadata": {},
     "output_type": "execute_result"
    }
   ],
   "source": [
    "df_data.shape"
   ]
  },
  {
   "cell_type": "code",
   "execution_count": 53,
   "metadata": {},
   "outputs": [
    {
     "data": {
      "text/plain": [
       "Hospital_code                         int64\n",
       "City_Code_Hospital                    int64\n",
       "Available Extra Rooms in Hospital     int64\n",
       "Bed Grade                             int32\n",
       "City_Code_Patient                     int32\n",
       "Visitors with Patient                 int64\n",
       "Admission_Deposit                     int32\n",
       "Stay                                 object\n",
       "train_flag                            int64\n",
       "Hospital_type_code_a                  uint8\n",
       "Hospital_type_code_b                  uint8\n",
       "Hospital_type_code_c                  uint8\n",
       "Hospital_type_code_d                  uint8\n",
       "Hospital_type_code_e                  uint8\n",
       "Hospital_type_code_f                  uint8\n",
       "Hospital_type_code_g                  uint8\n",
       "Hospital_region_code_X                uint8\n",
       "Hospital_region_code_Y                uint8\n",
       "Hospital_region_code_Z                uint8\n",
       "Department_TB & Chest disease         uint8\n",
       "Department_anesthesia                 uint8\n",
       "Department_gynecology                 uint8\n",
       "Department_radiotherapy               uint8\n",
       "Department_surgery                    uint8\n",
       "Ward_Type_P                           uint8\n",
       "Ward_Type_Q                           uint8\n",
       "Ward_Type_R                           uint8\n",
       "Ward_Type_S                           uint8\n",
       "Ward_Type_T                           uint8\n",
       "Ward_Type_U                           uint8\n",
       "Ward_Facility_Code_A                  uint8\n",
       "Ward_Facility_Code_B                  uint8\n",
       "Ward_Facility_Code_C                  uint8\n",
       "Ward_Facility_Code_D                  uint8\n",
       "Ward_Facility_Code_E                  uint8\n",
       "Ward_Facility_Code_F                  uint8\n",
       "Type of Admission_Emergency           uint8\n",
       "Type of Admission_Trauma              uint8\n",
       "Type of Admission_Urgent              uint8\n",
       "Severity of Illness_Extreme           uint8\n",
       "Severity of Illness_Minor             uint8\n",
       "Severity of Illness_Moderate          uint8\n",
       "Age_0-10                              uint8\n",
       "Age_11-20                             uint8\n",
       "Age_21-30                             uint8\n",
       "Age_31-40                             uint8\n",
       "Age_41-50                             uint8\n",
       "Age_51-60                             uint8\n",
       "Age_61-70                             uint8\n",
       "Age_71-80                             uint8\n",
       "Age_81-90                             uint8\n",
       "Age_91-100                            uint8\n",
       "dtype: object"
      ]
     },
     "execution_count": 53,
     "metadata": {},
     "output_type": "execute_result"
    }
   ],
   "source": [
    "df_data.dtypes"
   ]
  },
  {
   "cell_type": "code",
   "execution_count": 54,
   "metadata": {},
   "outputs": [],
   "source": [
    "df_train, df_test = df_data[df_data.train_flag == 1], df_data[df_data.train_flag == 0]\n"
   ]
  },
  {
   "cell_type": "code",
   "execution_count": 55,
   "metadata": {},
   "outputs": [],
   "source": [
    "df_train.drop(['train_flag'], inplace=True, axis=1)\n",
    "df_test.drop(['train_flag'], inplace=True, axis=1)\n",
    "df_test.drop(['Stay'], inplace=True, axis=1)"
   ]
  },
  {
   "cell_type": "code",
   "execution_count": 56,
   "metadata": {},
   "outputs": [
    {
     "name": "stdout",
     "output_type": "stream",
     "text": [
      "(318438, 51) (137057, 50)\n"
     ]
    }
   ],
   "source": [
    "print(df_train.shape, df_test.shape)\n"
   ]
  },
  {
   "cell_type": "code",
   "execution_count": 57,
   "metadata": {},
   "outputs": [],
   "source": [
    "del df_data\n"
   ]
  },
  {
   "cell_type": "code",
   "execution_count": 58,
   "metadata": {},
   "outputs": [],
   "source": [
    "df_train['Stay'] = df_train['Stay'].astype(int)\n"
   ]
  },
  {
   "cell_type": "code",
   "execution_count": 59,
   "metadata": {},
   "outputs": [],
   "source": [
    "df_train, df_eval = train_test_split(df_train, test_size=0.30, random_state=42, shuffle=True, stratify=df_train['Stay'])\n"
   ]
  },
  {
   "cell_type": "code",
   "execution_count": 60,
   "metadata": {},
   "outputs": [
    {
     "name": "stdout",
     "output_type": "stream",
     "text": [
      "['Hospital_code', 'City_Code_Hospital', 'Available Extra Rooms in Hospital', 'Bed Grade', 'City_Code_Patient', 'Visitors with Patient', 'Admission_Deposit', 'Hospital_type_code_a', 'Hospital_type_code_b', 'Hospital_type_code_c', 'Hospital_type_code_d', 'Hospital_type_code_e', 'Hospital_type_code_f', 'Hospital_type_code_g', 'Hospital_region_code_X', 'Hospital_region_code_Y', 'Hospital_region_code_Z', 'Department_TB & Chest disease', 'Department_anesthesia', 'Department_gynecology', 'Department_radiotherapy', 'Department_surgery', 'Ward_Type_P', 'Ward_Type_Q', 'Ward_Type_R', 'Ward_Type_S', 'Ward_Type_T', 'Ward_Type_U', 'Ward_Facility_Code_A', 'Ward_Facility_Code_B', 'Ward_Facility_Code_C', 'Ward_Facility_Code_D', 'Ward_Facility_Code_E', 'Ward_Facility_Code_F', 'Type of Admission_Emergency', 'Type of Admission_Trauma', 'Type of Admission_Urgent', 'Severity of Illness_Extreme', 'Severity of Illness_Minor', 'Severity of Illness_Moderate', 'Age_0-10', 'Age_11-20', 'Age_21-30', 'Age_31-40', 'Age_41-50', 'Age_51-60', 'Age_61-70', 'Age_71-80', 'Age_81-90', 'Age_91-100']\n"
     ]
    }
   ],
   "source": [
    "feature_cols = df_train.columns.tolist()\n",
    "feature_cols.remove('Stay')\n",
    "#feature_cols.remove('Admission_Deposit')\n",
    "label_col = 'Stay'\n",
    "print(feature_cols)"
   ]
  },
  {
   "cell_type": "code",
   "execution_count": 61,
   "metadata": {},
   "outputs": [
    {
     "data": {
      "text/plain": [
       "['Hospital_code',\n",
       " 'City_Code_Hospital',\n",
       " 'Available Extra Rooms in Hospital',\n",
       " 'Bed Grade',\n",
       " 'City_Code_Patient',\n",
       " 'Visitors with Patient',\n",
       " 'Hospital_type_code_a',\n",
       " 'Hospital_type_code_b',\n",
       " 'Hospital_type_code_c',\n",
       " 'Hospital_type_code_d',\n",
       " 'Hospital_type_code_e',\n",
       " 'Hospital_type_code_f',\n",
       " 'Hospital_type_code_g',\n",
       " 'Hospital_region_code_X',\n",
       " 'Hospital_region_code_Y',\n",
       " 'Hospital_region_code_Z',\n",
       " 'Department_TB & Chest disease',\n",
       " 'Department_anesthesia',\n",
       " 'Department_gynecology',\n",
       " 'Department_radiotherapy',\n",
       " 'Department_surgery',\n",
       " 'Ward_Type_P',\n",
       " 'Ward_Type_Q',\n",
       " 'Ward_Type_R',\n",
       " 'Ward_Type_S',\n",
       " 'Ward_Type_T',\n",
       " 'Ward_Type_U',\n",
       " 'Ward_Facility_Code_A',\n",
       " 'Ward_Facility_Code_B',\n",
       " 'Ward_Facility_Code_C',\n",
       " 'Ward_Facility_Code_D',\n",
       " 'Ward_Facility_Code_E',\n",
       " 'Ward_Facility_Code_F',\n",
       " 'Type of Admission_Emergency',\n",
       " 'Type of Admission_Trauma',\n",
       " 'Type of Admission_Urgent',\n",
       " 'Severity of Illness_Extreme',\n",
       " 'Severity of Illness_Minor',\n",
       " 'Severity of Illness_Moderate',\n",
       " 'Age_0-10',\n",
       " 'Age_11-20',\n",
       " 'Age_21-30',\n",
       " 'Age_31-40',\n",
       " 'Age_41-50',\n",
       " 'Age_51-60',\n",
       " 'Age_61-70',\n",
       " 'Age_71-80',\n",
       " 'Age_81-90',\n",
       " 'Age_91-100']"
      ]
     },
     "execution_count": 61,
     "metadata": {},
     "output_type": "execute_result"
    }
   ],
   "source": [
    "cat_cols = feature_cols\n",
    "cat_cols.remove('Admission_Deposit')\n",
    "cat_cols"
   ]
  },
  {
   "cell_type": "code",
   "execution_count": 62,
   "metadata": {},
   "outputs": [
    {
     "data": {
      "text/plain": [
       "('Stay', 49, 49)"
      ]
     },
     "execution_count": 62,
     "metadata": {},
     "output_type": "execute_result"
    }
   ],
   "source": [
    "label_col, len(feature_cols), len(cat_cols)\n"
   ]
  },
  {
   "cell_type": "code",
   "execution_count": 63,
   "metadata": {},
   "outputs": [],
   "source": [
    "params = {}\n",
    "params['learning_rate'] = 0.06\n",
    "params['max_depth'] = 50\n",
    "params['n_estimators'] = 500\n",
    "params['objective'] = 'multiclass'\n",
    "params['boosting_type'] = 'gbdt'\n",
    "params['subsample'] = 0.7\n",
    "params['random_state'] = 42\n",
    "params['colsample_bytree']=0.7\n",
    "params['min_data_in_leaf'] = 55\n",
    "params['reg_alpha'] = 1.6\n",
    "params['reg_lambda'] = 1.1"
   ]
  },
  {
   "cell_type": "code",
   "execution_count": 64,
   "metadata": {},
   "outputs": [
    {
     "name": "stdout",
     "output_type": "stream",
     "text": [
      "[1]\tvalid_0's multi_error: 0.725247\tvalid_0's multi_logloss: 1.88249\tvalid_1's multi_error: 0.725254\tvalid_1's multi_logloss: 1.88292\n",
      "Training until validation scores don't improve for 100 rounds\n",
      "[2]\tvalid_0's multi_error: 0.722708\tvalid_0's multi_logloss: 1.86117\tvalid_1's multi_error: 0.722941\tvalid_1's multi_logloss: 1.86213\n",
      "[3]\tvalid_0's multi_error: 0.716374\tvalid_0's multi_logloss: 1.84179\tvalid_1's multi_error: 0.716315\tvalid_1's multi_logloss: 1.8431\n",
      "[4]\tvalid_0's multi_error: 0.707464\tvalid_0's multi_logloss: 1.8299\tvalid_1's multi_error: 0.707334\tvalid_1's multi_logloss: 1.83152\n",
      "[5]\tvalid_0's multi_error: 0.700708\tvalid_0's multi_logloss: 1.81378\tvalid_1's multi_error: 0.70099\tvalid_1's multi_logloss: 1.8158\n",
      "[6]\tvalid_0's multi_error: 0.692238\tvalid_0's multi_logloss: 1.80049\tvalid_1's multi_error: 0.69247\tvalid_1's multi_logloss: 1.80267\n",
      "[7]\tvalid_0's multi_error: 0.684634\tvalid_0's multi_logloss: 1.78821\tvalid_1's multi_error: 0.685299\tvalid_1's multi_logloss: 1.79067\n",
      "[8]\tvalid_0's multi_error: 0.679811\tvalid_0's multi_logloss: 1.77808\tvalid_1's multi_error: 0.681531\tvalid_1's multi_logloss: 1.78089\n",
      "[9]\tvalid_0's multi_error: 0.669776\tvalid_0's multi_logloss: 1.76606\tvalid_1's multi_error: 0.671848\tvalid_1's multi_logloss: 1.76922\n",
      "[10]\tvalid_0's multi_error: 0.657744\tvalid_0's multi_logloss: 1.75574\tvalid_1's multi_error: 0.659758\tvalid_1's multi_logloss: 1.75929\n",
      "[11]\tvalid_0's multi_error: 0.646044\tvalid_0's multi_logloss: 1.74625\tvalid_1's multi_error: 0.648024\tvalid_1's multi_logloss: 1.75008\n",
      "[12]\tvalid_0's multi_error: 0.637816\tvalid_0's multi_logloss: 1.73846\tvalid_1's multi_error: 0.639817\tvalid_1's multi_logloss: 1.74258\n",
      "[13]\tvalid_0's multi_error: 0.632244\tvalid_0's multi_logloss: 1.72857\tvalid_1's multi_error: 0.633693\tvalid_1's multi_logloss: 1.73304\n",
      "[14]\tvalid_0's multi_error: 0.625551\tvalid_0's multi_logloss: 1.72056\tvalid_1's multi_error: 0.626534\tvalid_1's multi_logloss: 1.72534\n",
      "[15]\tvalid_0's multi_error: 0.621109\tvalid_0's multi_logloss: 1.71601\tvalid_1's multi_error: 0.621823\tvalid_1's multi_logloss: 1.72107\n",
      "[16]\tvalid_0's multi_error: 0.612599\tvalid_0's multi_logloss: 1.70622\tvalid_1's multi_error: 0.613878\tvalid_1's multi_logloss: 1.71158\n",
      "[17]\tvalid_0's multi_error: 0.605802\tvalid_0's multi_logloss: 1.69718\tvalid_1's multi_error: 0.606237\tvalid_1's multi_logloss: 1.70287\n",
      "[18]\tvalid_0's multi_error: 0.602649\tvalid_0's multi_logloss: 1.69094\tvalid_1's multi_error: 0.602918\tvalid_1's multi_logloss: 1.69689\n",
      "[19]\tvalid_0's multi_error: 0.600648\tvalid_0's multi_logloss: 1.68396\tvalid_1's multi_error: 0.600888\tvalid_1's multi_logloss: 1.69017\n",
      "[20]\tvalid_0's multi_error: 0.597979\tvalid_0's multi_logloss: 1.67678\tvalid_1's multi_error: 0.598166\tvalid_1's multi_logloss: 1.68326\n",
      "[21]\tvalid_0's multi_error: 0.595507\tvalid_0's multi_logloss: 1.6708\tvalid_1's multi_error: 0.596261\tvalid_1's multi_logloss: 1.67763\n",
      "[22]\tvalid_0's multi_error: 0.592909\tvalid_0's multi_logloss: 1.66333\tvalid_1's multi_error: 0.594115\tvalid_1's multi_logloss: 1.67042\n",
      "[23]\tvalid_0's multi_error: 0.591209\tvalid_0's multi_logloss: 1.6571\tvalid_1's multi_error: 0.59199\tvalid_1's multi_logloss: 1.66448\n",
      "[24]\tvalid_0's multi_error: 0.590769\tvalid_0's multi_logloss: 1.6534\tvalid_1's multi_error: 0.591896\tvalid_1's multi_logloss: 1.66103\n",
      "[25]\tvalid_0's multi_error: 0.590352\tvalid_0's multi_logloss: 1.65032\tvalid_1's multi_error: 0.591728\tvalid_1's multi_logloss: 1.6582\n",
      "[26]\tvalid_0's multi_error: 0.589639\tvalid_0's multi_logloss: 1.64443\tvalid_1's multi_error: 0.590881\tvalid_1's multi_logloss: 1.65257\n",
      "[27]\tvalid_0's multi_error: 0.58893\tvalid_0's multi_logloss: 1.63952\tvalid_1's multi_error: 0.590305\tvalid_1's multi_logloss: 1.6479\n",
      "[28]\tvalid_0's multi_error: 0.588508\tvalid_0's multi_logloss: 1.63646\tvalid_1's multi_error: 0.590022\tvalid_1's multi_logloss: 1.64508\n",
      "[29]\tvalid_0's multi_error: 0.588405\tvalid_0's multi_logloss: 1.63254\tvalid_1's multi_error: 0.589781\tvalid_1's multi_logloss: 1.64141\n",
      "[30]\tvalid_0's multi_error: 0.587544\tvalid_0's multi_logloss: 1.62896\tvalid_1's multi_error: 0.58907\tvalid_1's multi_logloss: 1.63809\n",
      "[31]\tvalid_0's multi_error: 0.586781\tvalid_0's multi_logloss: 1.62518\tvalid_1's multi_error: 0.588818\tvalid_1's multi_logloss: 1.63467\n",
      "[32]\tvalid_0's multi_error: 0.586193\tvalid_0's multi_logloss: 1.62072\tvalid_1's multi_error: 0.588358\tvalid_1's multi_logloss: 1.63049\n",
      "[33]\tvalid_0's multi_error: 0.586175\tvalid_0's multi_logloss: 1.61756\tvalid_1's multi_error: 0.588274\tvalid_1's multi_logloss: 1.6276\n",
      "[34]\tvalid_0's multi_error: 0.58557\tvalid_0's multi_logloss: 1.61406\tvalid_1's multi_error: 0.587876\tvalid_1's multi_logloss: 1.62435\n",
      "[35]\tvalid_0's multi_error: 0.584865\tvalid_0's multi_logloss: 1.60998\tvalid_1's multi_error: 0.587583\tvalid_1's multi_logloss: 1.62056\n",
      "[36]\tvalid_0's multi_error: 0.584735\tvalid_0's multi_logloss: 1.60649\tvalid_1's multi_error: 0.587374\tvalid_1's multi_logloss: 1.61732\n",
      "[37]\tvalid_0's multi_error: 0.584282\tvalid_0's multi_logloss: 1.60278\tvalid_1's multi_error: 0.586882\tvalid_1's multi_logloss: 1.61385\n",
      "[38]\tvalid_0's multi_error: 0.583869\tvalid_0's multi_logloss: 1.59953\tvalid_1's multi_error: 0.586348\tvalid_1's multi_logloss: 1.61088\n",
      "[39]\tvalid_0's multi_error: 0.583389\tvalid_0's multi_logloss: 1.59581\tvalid_1's multi_error: 0.586201\tvalid_1's multi_logloss: 1.60738\n",
      "[40]\tvalid_0's multi_error: 0.583183\tvalid_0's multi_logloss: 1.59239\tvalid_1's multi_error: 0.586317\tvalid_1's multi_logloss: 1.60417\n",
      "[41]\tvalid_0's multi_error: 0.582734\tvalid_0's multi_logloss: 1.58954\tvalid_1's multi_error: 0.585992\tvalid_1's multi_logloss: 1.60159\n",
      "[42]\tvalid_0's multi_error: 0.58242\tvalid_0's multi_logloss: 1.58707\tvalid_1's multi_error: 0.585835\tvalid_1's multi_logloss: 1.59937\n",
      "[43]\tvalid_0's multi_error: 0.582205\tvalid_0's multi_logloss: 1.58402\tvalid_1's multi_error: 0.585982\tvalid_1's multi_logloss: 1.59656\n",
      "[44]\tvalid_0's multi_error: 0.581806\tvalid_0's multi_logloss: 1.58146\tvalid_1's multi_error: 0.585835\tvalid_1's multi_logloss: 1.59427\n",
      "[45]\tvalid_0's multi_error: 0.581662\tvalid_0's multi_logloss: 1.57902\tvalid_1's multi_error: 0.585657\tvalid_1's multi_logloss: 1.59208\n",
      "[46]\tvalid_0's multi_error: 0.581613\tvalid_0's multi_logloss: 1.57659\tvalid_1's multi_error: 0.585657\tvalid_1's multi_logloss: 1.58991\n",
      "[47]\tvalid_0's multi_error: 0.581474\tvalid_0's multi_logloss: 1.57444\tvalid_1's multi_error: 0.585615\tvalid_1's multi_logloss: 1.588\n",
      "[48]\tvalid_0's multi_error: 0.581249\tvalid_0's multi_logloss: 1.57215\tvalid_1's multi_error: 0.585877\tvalid_1's multi_logloss: 1.58594\n",
      "[49]\tvalid_0's multi_error: 0.581012\tvalid_0's multi_logloss: 1.56959\tvalid_1's multi_error: 0.585814\tvalid_1's multi_logloss: 1.58358\n",
      "[50]\tvalid_0's multi_error: 0.58068\tvalid_0's multi_logloss: 1.56772\tvalid_1's multi_error: 0.585532\tvalid_1's multi_logloss: 1.58197\n",
      "[51]\tvalid_0's multi_error: 0.580487\tvalid_0's multi_logloss: 1.56567\tvalid_1's multi_error: 0.5855\tvalid_1's multi_logloss: 1.58015\n",
      "[52]\tvalid_0's multi_error: 0.580384\tvalid_0's multi_logloss: 1.56404\tvalid_1's multi_error: 0.585238\tvalid_1's multi_logloss: 1.5788\n",
      "[53]\tvalid_0's multi_error: 0.580159\tvalid_0's multi_logloss: 1.56261\tvalid_1's multi_error: 0.58528\tvalid_1's multi_logloss: 1.5776\n",
      "[54]\tvalid_0's multi_error: 0.580047\tvalid_0's multi_logloss: 1.56077\tvalid_1's multi_error: 0.584977\tvalid_1's multi_logloss: 1.57602\n",
      "[55]\tvalid_0's multi_error: 0.579895\tvalid_0's multi_logloss: 1.55864\tvalid_1's multi_error: 0.58483\tvalid_1's multi_logloss: 1.5741\n",
      "[56]\tvalid_0's multi_error: 0.579509\tvalid_0's multi_logloss: 1.55688\tvalid_1's multi_error: 0.584924\tvalid_1's multi_logloss: 1.57259\n",
      "[57]\tvalid_0's multi_error: 0.579451\tvalid_0's multi_logloss: 1.55511\tvalid_1's multi_error: 0.584809\tvalid_1's multi_logloss: 1.57106\n",
      "[58]\tvalid_0's multi_error: 0.579163\tvalid_0's multi_logloss: 1.55318\tvalid_1's multi_error: 0.584945\tvalid_1's multi_logloss: 1.56937\n",
      "[59]\tvalid_0's multi_error: 0.579042\tvalid_0's multi_logloss: 1.55208\tvalid_1's multi_error: 0.584966\tvalid_1's multi_logloss: 1.56851\n",
      "[60]\tvalid_0's multi_error: 0.578778\tvalid_0's multi_logloss: 1.55028\tvalid_1's multi_error: 0.584767\tvalid_1's multi_logloss: 1.56697\n",
      "[61]\tvalid_0's multi_error: 0.578683\tvalid_0's multi_logloss: 1.54875\tvalid_1's multi_error: 0.584485\tvalid_1's multi_logloss: 1.56565\n"
     ]
    },
    {
     "name": "stdout",
     "output_type": "stream",
     "text": [
      "[62]\tvalid_0's multi_error: 0.578562\tvalid_0's multi_logloss: 1.54721\tvalid_1's multi_error: 0.584202\tvalid_1's multi_logloss: 1.56433\n",
      "[63]\tvalid_0's multi_error: 0.578105\tvalid_0's multi_logloss: 1.54569\tvalid_1's multi_error: 0.584056\tvalid_1's multi_logloss: 1.56305\n",
      "[64]\tvalid_0's multi_error: 0.578185\tvalid_0's multi_logloss: 1.54448\tvalid_1's multi_error: 0.584035\tvalid_1's multi_logloss: 1.56206\n",
      "[65]\tvalid_0's multi_error: 0.578087\tvalid_0's multi_logloss: 1.54295\tvalid_1's multi_error: 0.58394\tvalid_1's multi_logloss: 1.56077\n",
      "[66]\tvalid_0's multi_error: 0.577966\tvalid_0's multi_logloss: 1.54152\tvalid_1's multi_error: 0.583574\tvalid_1's multi_logloss: 1.55956\n",
      "[67]\tvalid_0's multi_error: 0.577777\tvalid_0's multi_logloss: 1.54041\tvalid_1's multi_error: 0.58349\tvalid_1's multi_logloss: 1.55871\n",
      "[68]\tvalid_0's multi_error: 0.577517\tvalid_0's multi_logloss: 1.53907\tvalid_1's multi_error: 0.583459\tvalid_1's multi_logloss: 1.5576\n",
      "[69]\tvalid_0's multi_error: 0.577364\tvalid_0's multi_logloss: 1.53783\tvalid_1's multi_error: 0.58348\tvalid_1's multi_logloss: 1.55661\n",
      "[70]\tvalid_0's multi_error: 0.577207\tvalid_0's multi_logloss: 1.53663\tvalid_1's multi_error: 0.583271\tvalid_1's multi_logloss: 1.55564\n",
      "[71]\tvalid_0's multi_error: 0.577064\tvalid_0's multi_logloss: 1.53526\tvalid_1's multi_error: 0.583166\tvalid_1's multi_logloss: 1.55453\n",
      "[72]\tvalid_0's multi_error: 0.576898\tvalid_0's multi_logloss: 1.53401\tvalid_1's multi_error: 0.583354\tvalid_1's multi_logloss: 1.55353\n",
      "[73]\tvalid_0's multi_error: 0.576768\tvalid_0's multi_logloss: 1.53285\tvalid_1's multi_error: 0.583114\tvalid_1's multi_logloss: 1.55259\n",
      "[74]\tvalid_0's multi_error: 0.576499\tvalid_0's multi_logloss: 1.53171\tvalid_1's multi_error: 0.582904\tvalid_1's multi_logloss: 1.55165\n",
      "[75]\tvalid_0's multi_error: 0.576346\tvalid_0's multi_logloss: 1.53072\tvalid_1's multi_error: 0.583082\tvalid_1's multi_logloss: 1.55092\n",
      "[76]\tvalid_0's multi_error: 0.576252\tvalid_0's multi_logloss: 1.52962\tvalid_1's multi_error: 0.582747\tvalid_1's multi_logloss: 1.55007\n",
      "[77]\tvalid_0's multi_error: 0.576117\tvalid_0's multi_logloss: 1.52885\tvalid_1's multi_error: 0.582527\tvalid_1's multi_logloss: 1.54947\n",
      "[78]\tvalid_0's multi_error: 0.576037\tvalid_0's multi_logloss: 1.52805\tvalid_1's multi_error: 0.582559\tvalid_1's multi_logloss: 1.5489\n",
      "[79]\tvalid_0's multi_error: 0.575947\tvalid_0's multi_logloss: 1.52704\tvalid_1's multi_error: 0.582506\tvalid_1's multi_logloss: 1.54814\n",
      "[80]\tvalid_0's multi_error: 0.575844\tvalid_0's multi_logloss: 1.52605\tvalid_1's multi_error: 0.58236\tvalid_1's multi_logloss: 1.54739\n",
      "[81]\tvalid_0's multi_error: 0.575574\tvalid_0's multi_logloss: 1.52525\tvalid_1's multi_error: 0.582182\tvalid_1's multi_logloss: 1.54681\n",
      "[82]\tvalid_0's multi_error: 0.57553\tvalid_0's multi_logloss: 1.52436\tvalid_1's multi_error: 0.58236\tvalid_1's multi_logloss: 1.54617\n",
      "[83]\tvalid_0's multi_error: 0.575166\tvalid_0's multi_logloss: 1.52346\tvalid_1's multi_error: 0.582234\tvalid_1's multi_logloss: 1.54551\n",
      "[84]\tvalid_0's multi_error: 0.575099\tvalid_0's multi_logloss: 1.52253\tvalid_1's multi_error: 0.581983\tvalid_1's multi_logloss: 1.54484\n",
      "[85]\tvalid_0's multi_error: 0.574982\tvalid_0's multi_logloss: 1.5217\tvalid_1's multi_error: 0.581878\tvalid_1's multi_logloss: 1.54426\n",
      "[86]\tvalid_0's multi_error: 0.574673\tvalid_0's multi_logloss: 1.52076\tvalid_1's multi_error: 0.581627\tvalid_1's multi_logloss: 1.54356\n",
      "[87]\tvalid_0's multi_error: 0.574502\tvalid_0's multi_logloss: 1.52004\tvalid_1's multi_error: 0.581449\tvalid_1's multi_logloss: 1.54309\n",
      "[88]\tvalid_0's multi_error: 0.574417\tvalid_0's multi_logloss: 1.51927\tvalid_1's multi_error: 0.581376\tvalid_1's multi_logloss: 1.54252\n",
      "[89]\tvalid_0's multi_error: 0.574359\tvalid_0's multi_logloss: 1.51848\tvalid_1's multi_error: 0.581271\tvalid_1's multi_logloss: 1.54194\n",
      "[90]\tvalid_0's multi_error: 0.574264\tvalid_0's multi_logloss: 1.51769\tvalid_1's multi_error: 0.581292\tvalid_1's multi_logloss: 1.5414\n",
      "[91]\tvalid_0's multi_error: 0.573995\tvalid_0's multi_logloss: 1.51695\tvalid_1's multi_error: 0.58125\tvalid_1's multi_logloss: 1.54088\n",
      "[92]\tvalid_0's multi_error: 0.573879\tvalid_0's multi_logloss: 1.51617\tvalid_1's multi_error: 0.581313\tvalid_1's multi_logloss: 1.54031\n",
      "[93]\tvalid_0's multi_error: 0.573578\tvalid_0's multi_logloss: 1.51542\tvalid_1's multi_error: 0.581083\tvalid_1's multi_logloss: 1.53979\n",
      "[94]\tvalid_0's multi_error: 0.573583\tvalid_0's multi_logloss: 1.51462\tvalid_1's multi_error: 0.581167\tvalid_1's multi_logloss: 1.53925\n",
      "[95]\tvalid_0's multi_error: 0.573524\tvalid_0's multi_logloss: 1.51391\tvalid_1's multi_error: 0.580989\tvalid_1's multi_logloss: 1.53877\n",
      "[96]\tvalid_0's multi_error: 0.573511\tvalid_0's multi_logloss: 1.51318\tvalid_1's multi_error: 0.580947\tvalid_1's multi_logloss: 1.53828\n",
      "[97]\tvalid_0's multi_error: 0.573399\tvalid_0's multi_logloss: 1.51255\tvalid_1's multi_error: 0.580999\tvalid_1's multi_logloss: 1.5379\n",
      "[98]\tvalid_0's multi_error: 0.573147\tvalid_0's multi_logloss: 1.51189\tvalid_1's multi_error: 0.581041\tvalid_1's multi_logloss: 1.53749\n",
      "[99]\tvalid_0's multi_error: 0.573062\tvalid_0's multi_logloss: 1.51141\tvalid_1's multi_error: 0.58102\tvalid_1's multi_logloss: 1.53721\n",
      "[100]\tvalid_0's multi_error: 0.572847\tvalid_0's multi_logloss: 1.51072\tvalid_1's multi_error: 0.580894\tvalid_1's multi_logloss: 1.53679\n",
      "[101]\tvalid_0's multi_error: 0.572685\tvalid_0's multi_logloss: 1.51014\tvalid_1's multi_error: 0.580811\tvalid_1's multi_logloss: 1.53642\n",
      "[102]\tvalid_0's multi_error: 0.57269\tvalid_0's multi_logloss: 1.50946\tvalid_1's multi_error: 0.580695\tvalid_1's multi_logloss: 1.53598\n",
      "[103]\tvalid_0's multi_error: 0.572591\tvalid_0's multi_logloss: 1.50882\tvalid_1's multi_error: 0.580947\tvalid_1's multi_logloss: 1.53556\n",
      "[104]\tvalid_0's multi_error: 0.572488\tvalid_0's multi_logloss: 1.50813\tvalid_1's multi_error: 0.580873\tvalid_1's multi_logloss: 1.53509\n",
      "[105]\tvalid_0's multi_error: 0.572326\tvalid_0's multi_logloss: 1.50749\tvalid_1's multi_error: 0.580675\tvalid_1's multi_logloss: 1.53465\n",
      "[106]\tvalid_0's multi_error: 0.572151\tvalid_0's multi_logloss: 1.5069\tvalid_1's multi_error: 0.58058\tvalid_1's multi_logloss: 1.53431\n",
      "[107]\tvalid_0's multi_error: 0.57199\tvalid_0's multi_logloss: 1.50634\tvalid_1's multi_error: 0.580538\tvalid_1's multi_logloss: 1.53396\n",
      "[108]\tvalid_0's multi_error: 0.571802\tvalid_0's multi_logloss: 1.50582\tvalid_1's multi_error: 0.580612\tvalid_1's multi_logloss: 1.53368\n",
      "[109]\tvalid_0's multi_error: 0.571609\tvalid_0's multi_logloss: 1.50527\tvalid_1's multi_error: 0.580455\tvalid_1's multi_logloss: 1.53333\n",
      "[110]\tvalid_0's multi_error: 0.571488\tvalid_0's multi_logloss: 1.5047\tvalid_1's multi_error: 0.580308\tvalid_1's multi_logloss: 1.53298\n",
      "[111]\tvalid_0's multi_error: 0.571393\tvalid_0's multi_logloss: 1.50411\tvalid_1's multi_error: 0.580224\tvalid_1's multi_logloss: 1.5326\n",
      "[112]\tvalid_0's multi_error: 0.571308\tvalid_0's multi_logloss: 1.50359\tvalid_1's multi_error: 0.580245\tvalid_1's multi_logloss: 1.53232\n",
      "[113]\tvalid_0's multi_error: 0.571129\tvalid_0's multi_logloss: 1.50302\tvalid_1's multi_error: 0.580308\tvalid_1's multi_logloss: 1.53198\n",
      "[114]\tvalid_0's multi_error: 0.571039\tvalid_0's multi_logloss: 1.50249\tvalid_1's multi_error: 0.580224\tvalid_1's multi_logloss: 1.53168\n",
      "[115]\tvalid_0's multi_error: 0.570824\tvalid_0's multi_logloss: 1.50201\tvalid_1's multi_error: 0.58034\tvalid_1's multi_logloss: 1.53142\n",
      "[116]\tvalid_0's multi_error: 0.570653\tvalid_0's multi_logloss: 1.50148\tvalid_1's multi_error: 0.580214\tvalid_1's multi_logloss: 1.53112\n",
      "[117]\tvalid_0's multi_error: 0.570698\tvalid_0's multi_logloss: 1.50098\tvalid_1's multi_error: 0.58013\tvalid_1's multi_logloss: 1.53081\n",
      "[118]\tvalid_0's multi_error: 0.570492\tvalid_0's multi_logloss: 1.50047\tvalid_1's multi_error: 0.580172\tvalid_1's multi_logloss: 1.53052\n",
      "[119]\tvalid_0's multi_error: 0.570303\tvalid_0's multi_logloss: 1.49995\tvalid_1's multi_error: 0.579879\tvalid_1's multi_logloss: 1.53027\n",
      "[120]\tvalid_0's multi_error: 0.570092\tvalid_0's multi_logloss: 1.49943\tvalid_1's multi_error: 0.580078\tvalid_1's multi_logloss: 1.52998\n",
      "[121]\tvalid_0's multi_error: 0.569886\tvalid_0's multi_logloss: 1.49895\tvalid_1's multi_error: 0.580036\tvalid_1's multi_logloss: 1.52971\n",
      "[122]\tvalid_0's multi_error: 0.569801\tvalid_0's multi_logloss: 1.49853\tvalid_1's multi_error: 0.580088\tvalid_1's multi_logloss: 1.52949\n"
     ]
    },
    {
     "name": "stdout",
     "output_type": "stream",
     "text": [
      "[123]\tvalid_0's multi_error: 0.569576\tvalid_0's multi_logloss: 1.49809\tvalid_1's multi_error: 0.580099\tvalid_1's multi_logloss: 1.52928\n",
      "[124]\tvalid_0's multi_error: 0.569509\tvalid_0's multi_logloss: 1.49765\tvalid_1's multi_error: 0.579869\tvalid_1's multi_logloss: 1.52903\n",
      "[125]\tvalid_0's multi_error: 0.569433\tvalid_0's multi_logloss: 1.49723\tvalid_1's multi_error: 0.57991\tvalid_1's multi_logloss: 1.52881\n",
      "[126]\tvalid_0's multi_error: 0.56924\tvalid_0's multi_logloss: 1.49674\tvalid_1's multi_error: 0.579743\tvalid_1's multi_logloss: 1.52851\n",
      "[127]\tvalid_0's multi_error: 0.569119\tvalid_0's multi_logloss: 1.49626\tvalid_1's multi_error: 0.579701\tvalid_1's multi_logloss: 1.52828\n",
      "[128]\tvalid_0's multi_error: 0.569123\tvalid_0's multi_logloss: 1.49578\tvalid_1's multi_error: 0.57991\tvalid_1's multi_logloss: 1.52801\n",
      "[129]\tvalid_0's multi_error: 0.56893\tvalid_0's multi_logloss: 1.49536\tvalid_1's multi_error: 0.579795\tvalid_1's multi_logloss: 1.52778\n",
      "[130]\tvalid_0's multi_error: 0.568791\tvalid_0's multi_logloss: 1.49492\tvalid_1's multi_error: 0.579785\tvalid_1's multi_logloss: 1.52757\n",
      "[131]\tvalid_0's multi_error: 0.568639\tvalid_0's multi_logloss: 1.49451\tvalid_1's multi_error: 0.579617\tvalid_1's multi_logloss: 1.52738\n",
      "[132]\tvalid_0's multi_error: 0.568549\tvalid_0's multi_logloss: 1.4941\tvalid_1's multi_error: 0.579691\tvalid_1's multi_logloss: 1.5272\n",
      "[133]\tvalid_0's multi_error: 0.568401\tvalid_0's multi_logloss: 1.49367\tvalid_1's multi_error: 0.579701\tvalid_1's multi_logloss: 1.52702\n",
      "[134]\tvalid_0's multi_error: 0.568361\tvalid_0's multi_logloss: 1.49326\tvalid_1's multi_error: 0.579722\tvalid_1's multi_logloss: 1.52682\n",
      "[135]\tvalid_0's multi_error: 0.568388\tvalid_0's multi_logloss: 1.49281\tvalid_1's multi_error: 0.579638\tvalid_1's multi_logloss: 1.52662\n",
      "[136]\tvalid_0's multi_error: 0.568293\tvalid_0's multi_logloss: 1.49236\tvalid_1's multi_error: 0.579628\tvalid_1's multi_logloss: 1.52637\n",
      "[137]\tvalid_0's multi_error: 0.568136\tvalid_0's multi_logloss: 1.49196\tvalid_1's multi_error: 0.579575\tvalid_1's multi_logloss: 1.52618\n",
      "[138]\tvalid_0's multi_error: 0.568083\tvalid_0's multi_logloss: 1.4916\tvalid_1's multi_error: 0.579649\tvalid_1's multi_logloss: 1.52603\n",
      "[139]\tvalid_0's multi_error: 0.567979\tvalid_0's multi_logloss: 1.49116\tvalid_1's multi_error: 0.57968\tvalid_1's multi_logloss: 1.52584\n",
      "[140]\tvalid_0's multi_error: 0.567952\tvalid_0's multi_logloss: 1.49074\tvalid_1's multi_error: 0.579607\tvalid_1's multi_logloss: 1.52565\n",
      "[141]\tvalid_0's multi_error: 0.567845\tvalid_0's multi_logloss: 1.49034\tvalid_1's multi_error: 0.579659\tvalid_1's multi_logloss: 1.52549\n",
      "[142]\tvalid_0's multi_error: 0.567706\tvalid_0's multi_logloss: 1.48996\tvalid_1's multi_error: 0.579607\tvalid_1's multi_logloss: 1.52531\n",
      "[143]\tvalid_0's multi_error: 0.567688\tvalid_0's multi_logloss: 1.48954\tvalid_1's multi_error: 0.579356\tvalid_1's multi_logloss: 1.52512\n",
      "[144]\tvalid_0's multi_error: 0.567567\tvalid_0's multi_logloss: 1.4891\tvalid_1's multi_error: 0.579366\tvalid_1's multi_logloss: 1.52489\n",
      "[145]\tvalid_0's multi_error: 0.56749\tvalid_0's multi_logloss: 1.48872\tvalid_1's multi_error: 0.579345\tvalid_1's multi_logloss: 1.52475\n",
      "[146]\tvalid_0's multi_error: 0.567463\tvalid_0's multi_logloss: 1.48832\tvalid_1's multi_error: 0.579345\tvalid_1's multi_logloss: 1.52456\n",
      "[147]\tvalid_0's multi_error: 0.567436\tvalid_0's multi_logloss: 1.48792\tvalid_1's multi_error: 0.579366\tvalid_1's multi_logloss: 1.52439\n",
      "[148]\tvalid_0's multi_error: 0.567333\tvalid_0's multi_logloss: 1.48754\tvalid_1's multi_error: 0.579282\tvalid_1's multi_logloss: 1.52423\n",
      "[149]\tvalid_0's multi_error: 0.56723\tvalid_0's multi_logloss: 1.4872\tvalid_1's multi_error: 0.579314\tvalid_1's multi_logloss: 1.5241\n",
      "[150]\tvalid_0's multi_error: 0.567078\tvalid_0's multi_logloss: 1.48687\tvalid_1's multi_error: 0.579471\tvalid_1's multi_logloss: 1.52396\n",
      "[151]\tvalid_0's multi_error: 0.567087\tvalid_0's multi_logloss: 1.48647\tvalid_1's multi_error: 0.579272\tvalid_1's multi_logloss: 1.52378\n",
      "[152]\tvalid_0's multi_error: 0.56693\tvalid_0's multi_logloss: 1.48614\tvalid_1's multi_error: 0.579094\tvalid_1's multi_logloss: 1.52365\n",
      "[153]\tvalid_0's multi_error: 0.566804\tvalid_0's multi_logloss: 1.48575\tvalid_1's multi_error: 0.579418\tvalid_1's multi_logloss: 1.52351\n",
      "[154]\tvalid_0's multi_error: 0.566741\tvalid_0's multi_logloss: 1.4854\tvalid_1's multi_error: 0.579178\tvalid_1's multi_logloss: 1.52334\n",
      "[155]\tvalid_0's multi_error: 0.56666\tvalid_0's multi_logloss: 1.48503\tvalid_1's multi_error: 0.579293\tvalid_1's multi_logloss: 1.52318\n",
      "[156]\tvalid_0's multi_error: 0.566418\tvalid_0's multi_logloss: 1.48467\tvalid_1's multi_error: 0.57924\tvalid_1's multi_logloss: 1.52304\n",
      "[157]\tvalid_0's multi_error: 0.566432\tvalid_0's multi_logloss: 1.48434\tvalid_1's multi_error: 0.579178\tvalid_1's multi_logloss: 1.5229\n",
      "[158]\tvalid_0's multi_error: 0.566212\tvalid_0's multi_logloss: 1.48397\tvalid_1's multi_error: 0.579314\tvalid_1's multi_logloss: 1.52275\n",
      "[159]\tvalid_0's multi_error: 0.56605\tvalid_0's multi_logloss: 1.48365\tvalid_1's multi_error: 0.579356\tvalid_1's multi_logloss: 1.52263\n",
      "[160]\tvalid_0's multi_error: 0.566041\tvalid_0's multi_logloss: 1.48329\tvalid_1's multi_error: 0.579397\tvalid_1's multi_logloss: 1.52251\n",
      "[161]\tvalid_0's multi_error: 0.565916\tvalid_0's multi_logloss: 1.48295\tvalid_1's multi_error: 0.579303\tvalid_1's multi_logloss: 1.52236\n",
      "[162]\tvalid_0's multi_error: 0.565781\tvalid_0's multi_logloss: 1.48261\tvalid_1's multi_error: 0.579377\tvalid_1's multi_logloss: 1.52226\n",
      "[163]\tvalid_0's multi_error: 0.56575\tvalid_0's multi_logloss: 1.48224\tvalid_1's multi_error: 0.57923\tvalid_1's multi_logloss: 1.5221\n",
      "[164]\tvalid_0's multi_error: 0.565714\tvalid_0's multi_logloss: 1.48193\tvalid_1's multi_error: 0.579303\tvalid_1's multi_logloss: 1.52199\n",
      "[165]\tvalid_0's multi_error: 0.565718\tvalid_0's multi_logloss: 1.4816\tvalid_1's multi_error: 0.579293\tvalid_1's multi_logloss: 1.52187\n",
      "[166]\tvalid_0's multi_error: 0.565647\tvalid_0's multi_logloss: 1.48128\tvalid_1's multi_error: 0.57924\tvalid_1's multi_logloss: 1.52176\n",
      "[167]\tvalid_0's multi_error: 0.565548\tvalid_0's multi_logloss: 1.48095\tvalid_1's multi_error: 0.579125\tvalid_1's multi_logloss: 1.52166\n",
      "[168]\tvalid_0's multi_error: 0.565561\tvalid_0's multi_logloss: 1.4806\tvalid_1's multi_error: 0.579167\tvalid_1's multi_logloss: 1.52152\n",
      "[169]\tvalid_0's multi_error: 0.565512\tvalid_0's multi_logloss: 1.48026\tvalid_1's multi_error: 0.579136\tvalid_1's multi_logloss: 1.52138\n",
      "[170]\tvalid_0's multi_error: 0.565409\tvalid_0's multi_logloss: 1.47989\tvalid_1's multi_error: 0.579104\tvalid_1's multi_logloss: 1.52124\n",
      "[171]\tvalid_0's multi_error: 0.565328\tvalid_0's multi_logloss: 1.47957\tvalid_1's multi_error: 0.579178\tvalid_1's multi_logloss: 1.52113\n",
      "[172]\tvalid_0's multi_error: 0.565261\tvalid_0's multi_logloss: 1.47925\tvalid_1's multi_error: 0.57924\tvalid_1's multi_logloss: 1.52102\n",
      "[173]\tvalid_0's multi_error: 0.56518\tvalid_0's multi_logloss: 1.47892\tvalid_1's multi_error: 0.579146\tvalid_1's multi_logloss: 1.52093\n",
      "[174]\tvalid_0's multi_error: 0.565117\tvalid_0's multi_logloss: 1.47861\tvalid_1's multi_error: 0.579031\tvalid_1's multi_logloss: 1.52083\n",
      "[175]\tvalid_0's multi_error: 0.565131\tvalid_0's multi_logloss: 1.47833\tvalid_1's multi_error: 0.578947\tvalid_1's multi_logloss: 1.52073\n",
      "[176]\tvalid_0's multi_error: 0.564951\tvalid_0's multi_logloss: 1.47803\tvalid_1's multi_error: 0.578989\tvalid_1's multi_logloss: 1.52061\n",
      "[177]\tvalid_0's multi_error: 0.564839\tvalid_0's multi_logloss: 1.47773\tvalid_1's multi_error: 0.579042\tvalid_1's multi_logloss: 1.52051\n",
      "[178]\tvalid_0's multi_error: 0.564749\tvalid_0's multi_logloss: 1.47743\tvalid_1's multi_error: 0.579146\tvalid_1's multi_logloss: 1.52041\n",
      "[179]\tvalid_0's multi_error: 0.564664\tvalid_0's multi_logloss: 1.47715\tvalid_1's multi_error: 0.579199\tvalid_1's multi_logloss: 1.52033\n",
      "[180]\tvalid_0's multi_error: 0.564615\tvalid_0's multi_logloss: 1.47687\tvalid_1's multi_error: 0.579167\tvalid_1's multi_logloss: 1.52026\n",
      "[181]\tvalid_0's multi_error: 0.564368\tvalid_0's multi_logloss: 1.47658\tvalid_1's multi_error: 0.579146\tvalid_1's multi_logloss: 1.52018\n",
      "[182]\tvalid_0's multi_error: 0.564314\tvalid_0's multi_logloss: 1.4763\tvalid_1's multi_error: 0.579136\tvalid_1's multi_logloss: 1.52014\n",
      "[183]\tvalid_0's multi_error: 0.564283\tvalid_0's multi_logloss: 1.47602\tvalid_1's multi_error: 0.579272\tvalid_1's multi_logloss: 1.52006\n"
     ]
    },
    {
     "name": "stdout",
     "output_type": "stream",
     "text": [
      "[184]\tvalid_0's multi_error: 0.56435\tvalid_0's multi_logloss: 1.47573\tvalid_1's multi_error: 0.579094\tvalid_1's multi_logloss: 1.51999\n",
      "[185]\tvalid_0's multi_error: 0.564175\tvalid_0's multi_logloss: 1.47545\tvalid_1's multi_error: 0.579104\tvalid_1's multi_logloss: 1.51989\n",
      "[186]\tvalid_0's multi_error: 0.564144\tvalid_0's multi_logloss: 1.47516\tvalid_1's multi_error: 0.579209\tvalid_1's multi_logloss: 1.51978\n",
      "[187]\tvalid_0's multi_error: 0.563937\tvalid_0's multi_logloss: 1.47488\tvalid_1's multi_error: 0.57901\tvalid_1's multi_logloss: 1.51971\n",
      "[188]\tvalid_0's multi_error: 0.563888\tvalid_0's multi_logloss: 1.4746\tvalid_1's multi_error: 0.578979\tvalid_1's multi_logloss: 1.51961\n",
      "[189]\tvalid_0's multi_error: 0.563906\tvalid_0's multi_logloss: 1.47434\tvalid_1's multi_error: 0.579\tvalid_1's multi_logloss: 1.51956\n",
      "[190]\tvalid_0's multi_error: 0.563771\tvalid_0's multi_logloss: 1.47404\tvalid_1's multi_error: 0.578979\tvalid_1's multi_logloss: 1.51947\n",
      "[191]\tvalid_0's multi_error: 0.563704\tvalid_0's multi_logloss: 1.47378\tvalid_1's multi_error: 0.579042\tvalid_1's multi_logloss: 1.51939\n",
      "[192]\tvalid_0's multi_error: 0.563673\tvalid_0's multi_logloss: 1.47351\tvalid_1's multi_error: 0.579063\tvalid_1's multi_logloss: 1.51932\n",
      "[193]\tvalid_0's multi_error: 0.563605\tvalid_0's multi_logloss: 1.47323\tvalid_1's multi_error: 0.578937\tvalid_1's multi_logloss: 1.51923\n",
      "[194]\tvalid_0's multi_error: 0.563448\tvalid_0's multi_logloss: 1.47294\tvalid_1's multi_error: 0.579\tvalid_1's multi_logloss: 1.51913\n",
      "[195]\tvalid_0's multi_error: 0.563457\tvalid_0's multi_logloss: 1.47266\tvalid_1's multi_error: 0.578916\tvalid_1's multi_logloss: 1.51907\n",
      "[196]\tvalid_0's multi_error: 0.563314\tvalid_0's multi_logloss: 1.4724\tvalid_1's multi_error: 0.57878\tvalid_1's multi_logloss: 1.519\n",
      "[197]\tvalid_0's multi_error: 0.563287\tvalid_0's multi_logloss: 1.4721\tvalid_1's multi_error: 0.578864\tvalid_1's multi_logloss: 1.51889\n",
      "[198]\tvalid_0's multi_error: 0.563098\tvalid_0's multi_logloss: 1.47185\tvalid_1's multi_error: 0.578728\tvalid_1's multi_logloss: 1.51883\n",
      "[199]\tvalid_0's multi_error: 0.563067\tvalid_0's multi_logloss: 1.47158\tvalid_1's multi_error: 0.578769\tvalid_1's multi_logloss: 1.51875\n",
      "[200]\tvalid_0's multi_error: 0.562964\tvalid_0's multi_logloss: 1.4713\tvalid_1's multi_error: 0.578748\tvalid_1's multi_logloss: 1.51866\n",
      "[201]\tvalid_0's multi_error: 0.562959\tvalid_0's multi_logloss: 1.47103\tvalid_1's multi_error: 0.578633\tvalid_1's multi_logloss: 1.51857\n",
      "[202]\tvalid_0's multi_error: 0.562887\tvalid_0's multi_logloss: 1.47078\tvalid_1's multi_error: 0.578707\tvalid_1's multi_logloss: 1.51853\n",
      "[203]\tvalid_0's multi_error: 0.562861\tvalid_0's multi_logloss: 1.47055\tvalid_1's multi_error: 0.578748\tvalid_1's multi_logloss: 1.51847\n",
      "[204]\tvalid_0's multi_error: 0.562757\tvalid_0's multi_logloss: 1.47029\tvalid_1's multi_error: 0.578748\tvalid_1's multi_logloss: 1.51839\n",
      "[205]\tvalid_0's multi_error: 0.562645\tvalid_0's multi_logloss: 1.47004\tvalid_1's multi_error: 0.578864\tvalid_1's multi_logloss: 1.51832\n",
      "[206]\tvalid_0's multi_error: 0.562582\tvalid_0's multi_logloss: 1.46979\tvalid_1's multi_error: 0.578801\tvalid_1's multi_logloss: 1.51826\n",
      "[207]\tvalid_0's multi_error: 0.562578\tvalid_0's multi_logloss: 1.46953\tvalid_1's multi_error: 0.578864\tvalid_1's multi_logloss: 1.51818\n",
      "[208]\tvalid_0's multi_error: 0.562457\tvalid_0's multi_logloss: 1.46925\tvalid_1's multi_error: 0.578822\tvalid_1's multi_logloss: 1.51808\n",
      "[209]\tvalid_0's multi_error: 0.562376\tvalid_0's multi_logloss: 1.46902\tvalid_1's multi_error: 0.578843\tvalid_1's multi_logloss: 1.51803\n",
      "[210]\tvalid_0's multi_error: 0.562331\tvalid_0's multi_logloss: 1.46878\tvalid_1's multi_error: 0.578654\tvalid_1's multi_logloss: 1.51798\n",
      "[211]\tvalid_0's multi_error: 0.562129\tvalid_0's multi_logloss: 1.4685\tvalid_1's multi_error: 0.578728\tvalid_1's multi_logloss: 1.51788\n",
      "[212]\tvalid_0's multi_error: 0.562152\tvalid_0's multi_logloss: 1.46825\tvalid_1's multi_error: 0.578654\tvalid_1's multi_logloss: 1.51781\n",
      "[213]\tvalid_0's multi_error: 0.562004\tvalid_0's multi_logloss: 1.468\tvalid_1's multi_error: 0.578539\tvalid_1's multi_logloss: 1.51777\n",
      "[214]\tvalid_0's multi_error: 0.561945\tvalid_0's multi_logloss: 1.46775\tvalid_1's multi_error: 0.578518\tvalid_1's multi_logloss: 1.51772\n",
      "[215]\tvalid_0's multi_error: 0.561883\tvalid_0's multi_logloss: 1.46749\tvalid_1's multi_error: 0.578414\tvalid_1's multi_logloss: 1.51768\n",
      "[216]\tvalid_0's multi_error: 0.561856\tvalid_0's multi_logloss: 1.46721\tvalid_1's multi_error: 0.578466\tvalid_1's multi_logloss: 1.5176\n",
      "[217]\tvalid_0's multi_error: 0.561788\tvalid_0's multi_logloss: 1.46698\tvalid_1's multi_error: 0.578393\tvalid_1's multi_logloss: 1.51756\n",
      "[218]\tvalid_0's multi_error: 0.561654\tvalid_0's multi_logloss: 1.46675\tvalid_1's multi_error: 0.578372\tvalid_1's multi_logloss: 1.51752\n",
      "[219]\tvalid_0's multi_error: 0.56156\tvalid_0's multi_logloss: 1.46649\tvalid_1's multi_error: 0.578403\tvalid_1's multi_logloss: 1.51746\n",
      "[220]\tvalid_0's multi_error: 0.561443\tvalid_0's multi_logloss: 1.46627\tvalid_1's multi_error: 0.578434\tvalid_1's multi_logloss: 1.51743\n",
      "[221]\tvalid_0's multi_error: 0.561371\tvalid_0's multi_logloss: 1.46601\tvalid_1's multi_error: 0.578215\tvalid_1's multi_logloss: 1.51738\n",
      "[222]\tvalid_0's multi_error: 0.561326\tvalid_0's multi_logloss: 1.46578\tvalid_1's multi_error: 0.578225\tvalid_1's multi_logloss: 1.51735\n",
      "[223]\tvalid_0's multi_error: 0.561174\tvalid_0's multi_logloss: 1.46551\tvalid_1's multi_error: 0.578246\tvalid_1's multi_logloss: 1.51726\n",
      "[224]\tvalid_0's multi_error: 0.561084\tvalid_0's multi_logloss: 1.46529\tvalid_1's multi_error: 0.578257\tvalid_1's multi_logloss: 1.51723\n",
      "[225]\tvalid_0's multi_error: 0.561008\tvalid_0's multi_logloss: 1.46503\tvalid_1's multi_error: 0.578162\tvalid_1's multi_logloss: 1.5172\n",
      "[226]\tvalid_0's multi_error: 0.560985\tvalid_0's multi_logloss: 1.4648\tvalid_1's multi_error: 0.578309\tvalid_1's multi_logloss: 1.51716\n",
      "[227]\tvalid_0's multi_error: 0.560958\tvalid_0's multi_logloss: 1.46459\tvalid_1's multi_error: 0.578351\tvalid_1's multi_logloss: 1.51711\n",
      "[228]\tvalid_0's multi_error: 0.560842\tvalid_0's multi_logloss: 1.46438\tvalid_1's multi_error: 0.57834\tvalid_1's multi_logloss: 1.51708\n",
      "[229]\tvalid_0's multi_error: 0.560783\tvalid_0's multi_logloss: 1.46415\tvalid_1's multi_error: 0.578246\tvalid_1's multi_logloss: 1.51702\n",
      "[230]\tvalid_0's multi_error: 0.560671\tvalid_0's multi_logloss: 1.46393\tvalid_1's multi_error: 0.578257\tvalid_1's multi_logloss: 1.51699\n",
      "[231]\tvalid_0's multi_error: 0.560573\tvalid_0's multi_logloss: 1.46367\tvalid_1's multi_error: 0.578309\tvalid_1's multi_logloss: 1.51693\n",
      "[232]\tvalid_0's multi_error: 0.560487\tvalid_0's multi_logloss: 1.46343\tvalid_1's multi_error: 0.578246\tvalid_1's multi_logloss: 1.51688\n",
      "[233]\tvalid_0's multi_error: 0.560393\tvalid_0's multi_logloss: 1.46319\tvalid_1's multi_error: 0.578277\tvalid_1's multi_logloss: 1.51684\n",
      "[234]\tvalid_0's multi_error: 0.560299\tvalid_0's multi_logloss: 1.46296\tvalid_1's multi_error: 0.578309\tvalid_1's multi_logloss: 1.51679\n",
      "[235]\tvalid_0's multi_error: 0.560299\tvalid_0's multi_logloss: 1.46276\tvalid_1's multi_error: 0.578445\tvalid_1's multi_logloss: 1.51677\n",
      "[236]\tvalid_0's multi_error: 0.560241\tvalid_0's multi_logloss: 1.46251\tvalid_1's multi_error: 0.578319\tvalid_1's multi_logloss: 1.51668\n",
      "[237]\tvalid_0's multi_error: 0.560102\tvalid_0's multi_logloss: 1.46227\tvalid_1's multi_error: 0.578215\tvalid_1's multi_logloss: 1.51663\n",
      "[238]\tvalid_0's multi_error: 0.560075\tvalid_0's multi_logloss: 1.46204\tvalid_1's multi_error: 0.578194\tvalid_1's multi_logloss: 1.51656\n",
      "[239]\tvalid_0's multi_error: 0.559936\tvalid_0's multi_logloss: 1.46185\tvalid_1's multi_error: 0.578183\tvalid_1's multi_logloss: 1.51654\n",
      "[240]\tvalid_0's multi_error: 0.559922\tvalid_0's multi_logloss: 1.46162\tvalid_1's multi_error: 0.578194\tvalid_1's multi_logloss: 1.5165\n",
      "[241]\tvalid_0's multi_error: 0.559819\tvalid_0's multi_logloss: 1.46138\tvalid_1's multi_error: 0.578215\tvalid_1's multi_logloss: 1.51644\n",
      "[242]\tvalid_0's multi_error: 0.559617\tvalid_0's multi_logloss: 1.46116\tvalid_1's multi_error: 0.578141\tvalid_1's multi_logloss: 1.51642\n",
      "[243]\tvalid_0's multi_error: 0.559635\tvalid_0's multi_logloss: 1.46095\tvalid_1's multi_error: 0.578309\tvalid_1's multi_logloss: 1.51641\n",
      "[244]\tvalid_0's multi_error: 0.559465\tvalid_0's multi_logloss: 1.4607\tvalid_1's multi_error: 0.578152\tvalid_1's multi_logloss: 1.51634\n"
     ]
    },
    {
     "name": "stdout",
     "output_type": "stream",
     "text": [
      "[245]\tvalid_0's multi_error: 0.559469\tvalid_0's multi_logloss: 1.46043\tvalid_1's multi_error: 0.578173\tvalid_1's multi_logloss: 1.51625\n",
      "[246]\tvalid_0's multi_error: 0.559316\tvalid_0's multi_logloss: 1.46016\tvalid_1's multi_error: 0.578319\tvalid_1's multi_logloss: 1.51617\n",
      "[247]\tvalid_0's multi_error: 0.559218\tvalid_0's multi_logloss: 1.45997\tvalid_1's multi_error: 0.578288\tvalid_1's multi_logloss: 1.51614\n",
      "[248]\tvalid_0's multi_error: 0.559137\tvalid_0's multi_logloss: 1.45974\tvalid_1's multi_error: 0.578236\tvalid_1's multi_logloss: 1.51607\n",
      "[249]\tvalid_0's multi_error: 0.55902\tvalid_0's multi_logloss: 1.45954\tvalid_1's multi_error: 0.578162\tvalid_1's multi_logloss: 1.51604\n",
      "[250]\tvalid_0's multi_error: 0.558953\tvalid_0's multi_logloss: 1.45933\tvalid_1's multi_error: 0.578225\tvalid_1's multi_logloss: 1.51601\n",
      "[251]\tvalid_0's multi_error: 0.558971\tvalid_0's multi_logloss: 1.45911\tvalid_1's multi_error: 0.578288\tvalid_1's multi_logloss: 1.51594\n",
      "[252]\tvalid_0's multi_error: 0.558913\tvalid_0's multi_logloss: 1.4589\tvalid_1's multi_error: 0.57811\tvalid_1's multi_logloss: 1.51591\n",
      "[253]\tvalid_0's multi_error: 0.558796\tvalid_0's multi_logloss: 1.45868\tvalid_1's multi_error: 0.57812\tvalid_1's multi_logloss: 1.51586\n",
      "[254]\tvalid_0's multi_error: 0.558612\tvalid_0's multi_logloss: 1.4585\tvalid_1's multi_error: 0.578152\tvalid_1's multi_logloss: 1.51582\n",
      "[255]\tvalid_0's multi_error: 0.558576\tvalid_0's multi_logloss: 1.45829\tvalid_1's multi_error: 0.578162\tvalid_1's multi_logloss: 1.51577\n",
      "[256]\tvalid_0's multi_error: 0.558572\tvalid_0's multi_logloss: 1.45806\tvalid_1's multi_error: 0.578089\tvalid_1's multi_logloss: 1.51573\n",
      "[257]\tvalid_0's multi_error: 0.558599\tvalid_0's multi_logloss: 1.45784\tvalid_1's multi_error: 0.57811\tvalid_1's multi_logloss: 1.5157\n",
      "[258]\tvalid_0's multi_error: 0.558437\tvalid_0's multi_logloss: 1.45762\tvalid_1's multi_error: 0.578079\tvalid_1's multi_logloss: 1.51565\n",
      "[259]\tvalid_0's multi_error: 0.558401\tvalid_0's multi_logloss: 1.45742\tvalid_1's multi_error: 0.578152\tvalid_1's multi_logloss: 1.51563\n",
      "[260]\tvalid_0's multi_error: 0.558406\tvalid_0's multi_logloss: 1.45721\tvalid_1's multi_error: 0.578204\tvalid_1's multi_logloss: 1.51558\n",
      "[261]\tvalid_0's multi_error: 0.558321\tvalid_0's multi_logloss: 1.45699\tvalid_1's multi_error: 0.578183\tvalid_1's multi_logloss: 1.51554\n",
      "[262]\tvalid_0's multi_error: 0.558262\tvalid_0's multi_logloss: 1.45678\tvalid_1's multi_error: 0.578183\tvalid_1's multi_logloss: 1.51548\n",
      "[263]\tvalid_0's multi_error: 0.558119\tvalid_0's multi_logloss: 1.45656\tvalid_1's multi_error: 0.578267\tvalid_1's multi_logloss: 1.51544\n",
      "[264]\tvalid_0's multi_error: 0.558047\tvalid_0's multi_logloss: 1.45638\tvalid_1's multi_error: 0.578267\tvalid_1's multi_logloss: 1.51541\n",
      "[265]\tvalid_0's multi_error: 0.557993\tvalid_0's multi_logloss: 1.45615\tvalid_1's multi_error: 0.578298\tvalid_1's multi_logloss: 1.51536\n",
      "[266]\tvalid_0's multi_error: 0.557885\tvalid_0's multi_logloss: 1.45597\tvalid_1's multi_error: 0.578288\tvalid_1's multi_logloss: 1.51534\n",
      "[267]\tvalid_0's multi_error: 0.557849\tvalid_0's multi_logloss: 1.45576\tvalid_1's multi_error: 0.578194\tvalid_1's multi_logloss: 1.5153\n",
      "[268]\tvalid_0's multi_error: 0.557827\tvalid_0's multi_logloss: 1.45555\tvalid_1's multi_error: 0.57811\tvalid_1's multi_logloss: 1.51526\n",
      "[269]\tvalid_0's multi_error: 0.557773\tvalid_0's multi_logloss: 1.45536\tvalid_1's multi_error: 0.577984\tvalid_1's multi_logloss: 1.51525\n",
      "[270]\tvalid_0's multi_error: 0.557598\tvalid_0's multi_logloss: 1.45513\tvalid_1's multi_error: 0.577922\tvalid_1's multi_logloss: 1.51519\n",
      "[271]\tvalid_0's multi_error: 0.557544\tvalid_0's multi_logloss: 1.45491\tvalid_1's multi_error: 0.578079\tvalid_1's multi_logloss: 1.51515\n",
      "[272]\tvalid_0's multi_error: 0.55741\tvalid_0's multi_logloss: 1.45471\tvalid_1's multi_error: 0.578037\tvalid_1's multi_logloss: 1.51511\n",
      "[273]\tvalid_0's multi_error: 0.55732\tvalid_0's multi_logloss: 1.45451\tvalid_1's multi_error: 0.578152\tvalid_1's multi_logloss: 1.51507\n",
      "[274]\tvalid_0's multi_error: 0.557298\tvalid_0's multi_logloss: 1.4543\tvalid_1's multi_error: 0.578068\tvalid_1's multi_logloss: 1.51504\n",
      "[275]\tvalid_0's multi_error: 0.557244\tvalid_0's multi_logloss: 1.45409\tvalid_1's multi_error: 0.578058\tvalid_1's multi_logloss: 1.51499\n",
      "[276]\tvalid_0's multi_error: 0.5571\tvalid_0's multi_logloss: 1.45388\tvalid_1's multi_error: 0.577911\tvalid_1's multi_logloss: 1.51496\n",
      "[277]\tvalid_0's multi_error: 0.55706\tvalid_0's multi_logloss: 1.45368\tvalid_1's multi_error: 0.578089\tvalid_1's multi_logloss: 1.51494\n",
      "[278]\tvalid_0's multi_error: 0.557015\tvalid_0's multi_logloss: 1.45346\tvalid_1's multi_error: 0.57812\tvalid_1's multi_logloss: 1.5149\n",
      "[279]\tvalid_0's multi_error: 0.556952\tvalid_0's multi_logloss: 1.45327\tvalid_1's multi_error: 0.578162\tvalid_1's multi_logloss: 1.51488\n",
      "[280]\tvalid_0's multi_error: 0.556957\tvalid_0's multi_logloss: 1.45306\tvalid_1's multi_error: 0.57812\tvalid_1's multi_logloss: 1.51487\n",
      "[281]\tvalid_0's multi_error: 0.556876\tvalid_0's multi_logloss: 1.45286\tvalid_1's multi_error: 0.578099\tvalid_1's multi_logloss: 1.51484\n",
      "[282]\tvalid_0's multi_error: 0.556791\tvalid_0's multi_logloss: 1.45268\tvalid_1's multi_error: 0.578079\tvalid_1's multi_logloss: 1.51482\n",
      "[283]\tvalid_0's multi_error: 0.556638\tvalid_0's multi_logloss: 1.45247\tvalid_1's multi_error: 0.578131\tvalid_1's multi_logloss: 1.51479\n",
      "[284]\tvalid_0's multi_error: 0.55658\tvalid_0's multi_logloss: 1.4523\tvalid_1's multi_error: 0.578058\tvalid_1's multi_logloss: 1.51478\n",
      "[285]\tvalid_0's multi_error: 0.55649\tvalid_0's multi_logloss: 1.45208\tvalid_1's multi_error: 0.578026\tvalid_1's multi_logloss: 1.51474\n",
      "[286]\tvalid_0's multi_error: 0.556432\tvalid_0's multi_logloss: 1.45188\tvalid_1's multi_error: 0.578005\tvalid_1's multi_logloss: 1.51472\n",
      "[287]\tvalid_0's multi_error: 0.556315\tvalid_0's multi_logloss: 1.45168\tvalid_1's multi_error: 0.577932\tvalid_1's multi_logloss: 1.51468\n",
      "[288]\tvalid_0's multi_error: 0.55623\tvalid_0's multi_logloss: 1.45148\tvalid_1's multi_error: 0.577869\tvalid_1's multi_logloss: 1.51465\n",
      "[289]\tvalid_0's multi_error: 0.556185\tvalid_0's multi_logloss: 1.4513\tvalid_1's multi_error: 0.577869\tvalid_1's multi_logloss: 1.51463\n",
      "[290]\tvalid_0's multi_error: 0.556068\tvalid_0's multi_logloss: 1.45111\tvalid_1's multi_error: 0.577848\tvalid_1's multi_logloss: 1.51461\n",
      "[291]\tvalid_0's multi_error: 0.556086\tvalid_0's multi_logloss: 1.4509\tvalid_1's multi_error: 0.577963\tvalid_1's multi_logloss: 1.51457\n",
      "[292]\tvalid_0's multi_error: 0.555983\tvalid_0's multi_logloss: 1.45073\tvalid_1's multi_error: 0.577932\tvalid_1's multi_logloss: 1.51454\n",
      "[293]\tvalid_0's multi_error: 0.555943\tvalid_0's multi_logloss: 1.45053\tvalid_1's multi_error: 0.577859\tvalid_1's multi_logloss: 1.51453\n",
      "[294]\tvalid_0's multi_error: 0.55588\tvalid_0's multi_logloss: 1.45034\tvalid_1's multi_error: 0.577848\tvalid_1's multi_logloss: 1.5145\n",
      "[295]\tvalid_0's multi_error: 0.555831\tvalid_0's multi_logloss: 1.45015\tvalid_1's multi_error: 0.577796\tvalid_1's multi_logloss: 1.51449\n",
      "[296]\tvalid_0's multi_error: 0.555714\tvalid_0's multi_logloss: 1.44995\tvalid_1's multi_error: 0.577848\tvalid_1's multi_logloss: 1.51446\n",
      "[297]\tvalid_0's multi_error: 0.555624\tvalid_0's multi_logloss: 1.44976\tvalid_1's multi_error: 0.577922\tvalid_1's multi_logloss: 1.51443\n",
      "[298]\tvalid_0's multi_error: 0.555494\tvalid_0's multi_logloss: 1.44957\tvalid_1's multi_error: 0.577827\tvalid_1's multi_logloss: 1.51442\n",
      "[299]\tvalid_0's multi_error: 0.555463\tvalid_0's multi_logloss: 1.44937\tvalid_1's multi_error: 0.577806\tvalid_1's multi_logloss: 1.5144\n",
      "[300]\tvalid_0's multi_error: 0.55544\tvalid_0's multi_logloss: 1.44919\tvalid_1's multi_error: 0.577775\tvalid_1's multi_logloss: 1.51439\n",
      "[301]\tvalid_0's multi_error: 0.555342\tvalid_0's multi_logloss: 1.44901\tvalid_1's multi_error: 0.577681\tvalid_1's multi_logloss: 1.51436\n",
      "[302]\tvalid_0's multi_error: 0.555225\tvalid_0's multi_logloss: 1.44882\tvalid_1's multi_error: 0.577691\tvalid_1's multi_logloss: 1.51432\n",
      "[303]\tvalid_0's multi_error: 0.555167\tvalid_0's multi_logloss: 1.44862\tvalid_1's multi_error: 0.577775\tvalid_1's multi_logloss: 1.51429\n",
      "[304]\tvalid_0's multi_error: 0.555082\tvalid_0's multi_logloss: 1.44846\tvalid_1's multi_error: 0.577691\tvalid_1's multi_logloss: 1.51427\n",
      "[305]\tvalid_0's multi_error: 0.555055\tvalid_0's multi_logloss: 1.44829\tvalid_1's multi_error: 0.577597\tvalid_1's multi_logloss: 1.51427\n"
     ]
    },
    {
     "name": "stdout",
     "output_type": "stream",
     "text": [
      "[306]\tvalid_0's multi_error: 0.554992\tvalid_0's multi_logloss: 1.4481\tvalid_1's multi_error: 0.577649\tvalid_1's multi_logloss: 1.51424\n",
      "[307]\tvalid_0's multi_error: 0.554911\tvalid_0's multi_logloss: 1.44789\tvalid_1's multi_error: 0.577932\tvalid_1's multi_logloss: 1.51421\n",
      "[308]\tvalid_0's multi_error: 0.554866\tvalid_0's multi_logloss: 1.44769\tvalid_1's multi_error: 0.577963\tvalid_1's multi_logloss: 1.51417\n",
      "[309]\tvalid_0's multi_error: 0.55492\tvalid_0's multi_logloss: 1.44751\tvalid_1's multi_error: 0.577922\tvalid_1's multi_logloss: 1.51414\n",
      "[310]\tvalid_0's multi_error: 0.554871\tvalid_0's multi_logloss: 1.44733\tvalid_1's multi_error: 0.57789\tvalid_1's multi_logloss: 1.51413\n",
      "[311]\tvalid_0's multi_error: 0.554772\tvalid_0's multi_logloss: 1.44716\tvalid_1's multi_error: 0.577859\tvalid_1's multi_logloss: 1.51411\n",
      "[312]\tvalid_0's multi_error: 0.554763\tvalid_0's multi_logloss: 1.44699\tvalid_1's multi_error: 0.578016\tvalid_1's multi_logloss: 1.51411\n",
      "[313]\tvalid_0's multi_error: 0.554732\tvalid_0's multi_logloss: 1.44682\tvalid_1's multi_error: 0.577942\tvalid_1's multi_logloss: 1.51408\n",
      "[314]\tvalid_0's multi_error: 0.55466\tvalid_0's multi_logloss: 1.44666\tvalid_1's multi_error: 0.577953\tvalid_1's multi_logloss: 1.51406\n",
      "[315]\tvalid_0's multi_error: 0.554593\tvalid_0's multi_logloss: 1.44647\tvalid_1's multi_error: 0.578089\tvalid_1's multi_logloss: 1.51402\n",
      "[316]\tvalid_0's multi_error: 0.554534\tvalid_0's multi_logloss: 1.4463\tvalid_1's multi_error: 0.577984\tvalid_1's multi_logloss: 1.51402\n",
      "[317]\tvalid_0's multi_error: 0.55457\tvalid_0's multi_logloss: 1.44612\tvalid_1's multi_error: 0.578068\tvalid_1's multi_logloss: 1.514\n",
      "[318]\tvalid_0's multi_error: 0.554449\tvalid_0's multi_logloss: 1.44596\tvalid_1's multi_error: 0.578037\tvalid_1's multi_logloss: 1.51397\n",
      "[319]\tvalid_0's multi_error: 0.554427\tvalid_0's multi_logloss: 1.44575\tvalid_1's multi_error: 0.578099\tvalid_1's multi_logloss: 1.51394\n",
      "[320]\tvalid_0's multi_error: 0.554395\tvalid_0's multi_logloss: 1.44555\tvalid_1's multi_error: 0.578089\tvalid_1's multi_logloss: 1.51391\n",
      "[321]\tvalid_0's multi_error: 0.554323\tvalid_0's multi_logloss: 1.44538\tvalid_1's multi_error: 0.578141\tvalid_1's multi_logloss: 1.51388\n",
      "[322]\tvalid_0's multi_error: 0.554193\tvalid_0's multi_logloss: 1.4452\tvalid_1's multi_error: 0.578068\tvalid_1's multi_logloss: 1.51386\n",
      "[323]\tvalid_0's multi_error: 0.554207\tvalid_0's multi_logloss: 1.44502\tvalid_1's multi_error: 0.578162\tvalid_1's multi_logloss: 1.51384\n",
      "[324]\tvalid_0's multi_error: 0.554198\tvalid_0's multi_logloss: 1.44485\tvalid_1's multi_error: 0.578204\tvalid_1's multi_logloss: 1.51381\n",
      "[325]\tvalid_0's multi_error: 0.55409\tvalid_0's multi_logloss: 1.44467\tvalid_1's multi_error: 0.578099\tvalid_1's multi_logloss: 1.51379\n",
      "[326]\tvalid_0's multi_error: 0.55405\tvalid_0's multi_logloss: 1.4445\tvalid_1's multi_error: 0.578141\tvalid_1's multi_logloss: 1.51378\n",
      "[327]\tvalid_0's multi_error: 0.553978\tvalid_0's multi_logloss: 1.44434\tvalid_1's multi_error: 0.57812\tvalid_1's multi_logloss: 1.51376\n",
      "[328]\tvalid_0's multi_error: 0.55392\tvalid_0's multi_logloss: 1.44418\tvalid_1's multi_error: 0.578131\tvalid_1's multi_logloss: 1.51374\n",
      "[329]\tvalid_0's multi_error: 0.553745\tvalid_0's multi_logloss: 1.44397\tvalid_1's multi_error: 0.578047\tvalid_1's multi_logloss: 1.5137\n",
      "[330]\tvalid_0's multi_error: 0.55365\tvalid_0's multi_logloss: 1.4438\tvalid_1's multi_error: 0.578068\tvalid_1's multi_logloss: 1.51369\n",
      "[331]\tvalid_0's multi_error: 0.553592\tvalid_0's multi_logloss: 1.44362\tvalid_1's multi_error: 0.577869\tvalid_1's multi_logloss: 1.51367\n",
      "[332]\tvalid_0's multi_error: 0.55357\tvalid_0's multi_logloss: 1.44344\tvalid_1's multi_error: 0.57789\tvalid_1's multi_logloss: 1.51365\n",
      "[333]\tvalid_0's multi_error: 0.553556\tvalid_0's multi_logloss: 1.44328\tvalid_1's multi_error: 0.577838\tvalid_1's multi_logloss: 1.51364\n",
      "[334]\tvalid_0's multi_error: 0.553489\tvalid_0's multi_logloss: 1.44311\tvalid_1's multi_error: 0.577827\tvalid_1's multi_logloss: 1.51362\n",
      "[335]\tvalid_0's multi_error: 0.553431\tvalid_0's multi_logloss: 1.44293\tvalid_1's multi_error: 0.577765\tvalid_1's multi_logloss: 1.51359\n",
      "[336]\tvalid_0's multi_error: 0.553318\tvalid_0's multi_logloss: 1.44279\tvalid_1's multi_error: 0.577765\tvalid_1's multi_logloss: 1.51358\n",
      "[337]\tvalid_0's multi_error: 0.553363\tvalid_0's multi_logloss: 1.44262\tvalid_1's multi_error: 0.577806\tvalid_1's multi_logloss: 1.51357\n",
      "[338]\tvalid_0's multi_error: 0.553305\tvalid_0's multi_logloss: 1.44245\tvalid_1's multi_error: 0.577754\tvalid_1's multi_logloss: 1.51355\n",
      "[339]\tvalid_0's multi_error: 0.553188\tvalid_0's multi_logloss: 1.44226\tvalid_1's multi_error: 0.577806\tvalid_1's multi_logloss: 1.51353\n",
      "[340]\tvalid_0's multi_error: 0.553067\tvalid_0's multi_logloss: 1.44208\tvalid_1's multi_error: 0.577859\tvalid_1's multi_logloss: 1.51352\n",
      "[341]\tvalid_0's multi_error: 0.553031\tvalid_0's multi_logloss: 1.44192\tvalid_1's multi_error: 0.577754\tvalid_1's multi_logloss: 1.51349\n",
      "[342]\tvalid_0's multi_error: 0.55304\tvalid_0's multi_logloss: 1.44174\tvalid_1's multi_error: 0.577733\tvalid_1's multi_logloss: 1.51348\n",
      "[343]\tvalid_0's multi_error: 0.552937\tvalid_0's multi_logloss: 1.44157\tvalid_1's multi_error: 0.577775\tvalid_1's multi_logloss: 1.51347\n",
      "[344]\tvalid_0's multi_error: 0.552906\tvalid_0's multi_logloss: 1.44141\tvalid_1's multi_error: 0.577817\tvalid_1's multi_logloss: 1.51347\n",
      "[345]\tvalid_0's multi_error: 0.55287\tvalid_0's multi_logloss: 1.44125\tvalid_1's multi_error: 0.577869\tvalid_1's multi_logloss: 1.51345\n",
      "[346]\tvalid_0's multi_error: 0.552744\tvalid_0's multi_logloss: 1.44109\tvalid_1's multi_error: 0.57767\tvalid_1's multi_logloss: 1.51344\n",
      "[347]\tvalid_0's multi_error: 0.552646\tvalid_0's multi_logloss: 1.44089\tvalid_1's multi_error: 0.57767\tvalid_1's multi_logloss: 1.5134\n",
      "[348]\tvalid_0's multi_error: 0.552659\tvalid_0's multi_logloss: 1.44071\tvalid_1's multi_error: 0.577681\tvalid_1's multi_logloss: 1.51339\n",
      "[349]\tvalid_0's multi_error: 0.552601\tvalid_0's multi_logloss: 1.44053\tvalid_1's multi_error: 0.577618\tvalid_1's multi_logloss: 1.51336\n",
      "[350]\tvalid_0's multi_error: 0.552547\tvalid_0's multi_logloss: 1.44037\tvalid_1's multi_error: 0.577597\tvalid_1's multi_logloss: 1.51335\n",
      "[351]\tvalid_0's multi_error: 0.55243\tvalid_0's multi_logloss: 1.44021\tvalid_1's multi_error: 0.577545\tvalid_1's multi_logloss: 1.51331\n",
      "[352]\tvalid_0's multi_error: 0.552381\tvalid_0's multi_logloss: 1.44003\tvalid_1's multi_error: 0.577534\tvalid_1's multi_logloss: 1.5133\n",
      "[353]\tvalid_0's multi_error: 0.552327\tvalid_0's multi_logloss: 1.43988\tvalid_1's multi_error: 0.577461\tvalid_1's multi_logloss: 1.51328\n",
      "[354]\tvalid_0's multi_error: 0.552255\tvalid_0's multi_logloss: 1.43971\tvalid_1's multi_error: 0.577419\tvalid_1's multi_logloss: 1.51326\n",
      "[355]\tvalid_0's multi_error: 0.552255\tvalid_0's multi_logloss: 1.43955\tvalid_1's multi_error: 0.57745\tvalid_1's multi_logloss: 1.51324\n",
      "[356]\tvalid_0's multi_error: 0.552125\tvalid_0's multi_logloss: 1.43936\tvalid_1's multi_error: 0.577409\tvalid_1's multi_logloss: 1.51322\n",
      "[357]\tvalid_0's multi_error: 0.552098\tvalid_0's multi_logloss: 1.4392\tvalid_1's multi_error: 0.577482\tvalid_1's multi_logloss: 1.51321\n",
      "[358]\tvalid_0's multi_error: 0.552215\tvalid_0's multi_logloss: 1.43899\tvalid_1's multi_error: 0.577524\tvalid_1's multi_logloss: 1.51314\n",
      "[359]\tvalid_0's multi_error: 0.552152\tvalid_0's multi_logloss: 1.43884\tvalid_1's multi_error: 0.577503\tvalid_1's multi_logloss: 1.51313\n",
      "[360]\tvalid_0's multi_error: 0.552112\tvalid_0's multi_logloss: 1.43866\tvalid_1's multi_error: 0.577471\tvalid_1's multi_logloss: 1.51311\n",
      "[361]\tvalid_0's multi_error: 0.552026\tvalid_0's multi_logloss: 1.43847\tvalid_1's multi_error: 0.577555\tvalid_1's multi_logloss: 1.5131\n",
      "[362]\tvalid_0's multi_error: 0.551991\tvalid_0's multi_logloss: 1.43829\tvalid_1's multi_error: 0.577608\tvalid_1's multi_logloss: 1.51309\n",
      "[363]\tvalid_0's multi_error: 0.55191\tvalid_0's multi_logloss: 1.43812\tvalid_1's multi_error: 0.577587\tvalid_1's multi_logloss: 1.51307\n",
      "[364]\tvalid_0's multi_error: 0.551928\tvalid_0's multi_logloss: 1.43796\tvalid_1's multi_error: 0.577461\tvalid_1's multi_logloss: 1.51306\n",
      "[365]\tvalid_0's multi_error: 0.551851\tvalid_0's multi_logloss: 1.43779\tvalid_1's multi_error: 0.577524\tvalid_1's multi_logloss: 1.51304\n",
      "[366]\tvalid_0's multi_error: 0.551838\tvalid_0's multi_logloss: 1.43763\tvalid_1's multi_error: 0.577524\tvalid_1's multi_logloss: 1.51301\n"
     ]
    },
    {
     "name": "stdout",
     "output_type": "stream",
     "text": [
      "[367]\tvalid_0's multi_error: 0.551753\tvalid_0's multi_logloss: 1.43748\tvalid_1's multi_error: 0.577409\tvalid_1's multi_logloss: 1.513\n",
      "[368]\tvalid_0's multi_error: 0.551681\tvalid_0's multi_logloss: 1.43731\tvalid_1's multi_error: 0.57744\tvalid_1's multi_logloss: 1.51299\n",
      "[369]\tvalid_0's multi_error: 0.551609\tvalid_0's multi_logloss: 1.43717\tvalid_1's multi_error: 0.57745\tvalid_1's multi_logloss: 1.51298\n",
      "[370]\tvalid_0's multi_error: 0.55147\tvalid_0's multi_logloss: 1.43699\tvalid_1's multi_error: 0.577545\tvalid_1's multi_logloss: 1.51297\n",
      "[371]\tvalid_0's multi_error: 0.551493\tvalid_0's multi_logloss: 1.43684\tvalid_1's multi_error: 0.577618\tvalid_1's multi_logloss: 1.51296\n",
      "[372]\tvalid_0's multi_error: 0.551376\tvalid_0's multi_logloss: 1.4367\tvalid_1's multi_error: 0.577702\tvalid_1's multi_logloss: 1.51295\n",
      "[373]\tvalid_0's multi_error: 0.551318\tvalid_0's multi_logloss: 1.43656\tvalid_1's multi_error: 0.577733\tvalid_1's multi_logloss: 1.51294\n",
      "[374]\tvalid_0's multi_error: 0.551192\tvalid_0's multi_logloss: 1.43638\tvalid_1's multi_error: 0.577649\tvalid_1's multi_logloss: 1.51293\n",
      "[375]\tvalid_0's multi_error: 0.55117\tvalid_0's multi_logloss: 1.43622\tvalid_1's multi_error: 0.577618\tvalid_1's multi_logloss: 1.5129\n",
      "[376]\tvalid_0's multi_error: 0.551143\tvalid_0's multi_logloss: 1.43606\tvalid_1's multi_error: 0.577513\tvalid_1's multi_logloss: 1.51288\n",
      "[377]\tvalid_0's multi_error: 0.551098\tvalid_0's multi_logloss: 1.43589\tvalid_1's multi_error: 0.577566\tvalid_1's multi_logloss: 1.51286\n",
      "[378]\tvalid_0's multi_error: 0.551048\tvalid_0's multi_logloss: 1.43573\tvalid_1's multi_error: 0.577587\tvalid_1's multi_logloss: 1.51285\n",
      "[379]\tvalid_0's multi_error: 0.55095\tvalid_0's multi_logloss: 1.43557\tvalid_1's multi_error: 0.577545\tvalid_1's multi_logloss: 1.51284\n",
      "[380]\tvalid_0's multi_error: 0.550873\tvalid_0's multi_logloss: 1.43539\tvalid_1's multi_error: 0.577534\tvalid_1's multi_logloss: 1.51282\n",
      "[381]\tvalid_0's multi_error: 0.550811\tvalid_0's multi_logloss: 1.43524\tvalid_1's multi_error: 0.577566\tvalid_1's multi_logloss: 1.5128\n",
      "[382]\tvalid_0's multi_error: 0.550721\tvalid_0's multi_logloss: 1.43508\tvalid_1's multi_error: 0.577639\tvalid_1's multi_logloss: 1.51278\n",
      "[383]\tvalid_0's multi_error: 0.550716\tvalid_0's multi_logloss: 1.43494\tvalid_1's multi_error: 0.577576\tvalid_1's multi_logloss: 1.51276\n",
      "[384]\tvalid_0's multi_error: 0.550654\tvalid_0's multi_logloss: 1.43479\tvalid_1's multi_error: 0.577555\tvalid_1's multi_logloss: 1.51276\n",
      "[385]\tvalid_0's multi_error: 0.550618\tvalid_0's multi_logloss: 1.43462\tvalid_1's multi_error: 0.577555\tvalid_1's multi_logloss: 1.51274\n",
      "[386]\tvalid_0's multi_error: 0.550595\tvalid_0's multi_logloss: 1.4345\tvalid_1's multi_error: 0.577566\tvalid_1's multi_logloss: 1.51274\n",
      "[387]\tvalid_0's multi_error: 0.550483\tvalid_0's multi_logloss: 1.43434\tvalid_1's multi_error: 0.577639\tvalid_1's multi_logloss: 1.51273\n",
      "[388]\tvalid_0's multi_error: 0.550524\tvalid_0's multi_logloss: 1.43418\tvalid_1's multi_error: 0.577628\tvalid_1's multi_logloss: 1.51272\n",
      "[389]\tvalid_0's multi_error: 0.550438\tvalid_0's multi_logloss: 1.43405\tvalid_1's multi_error: 0.577628\tvalid_1's multi_logloss: 1.5127\n",
      "[390]\tvalid_0's multi_error: 0.550331\tvalid_0's multi_logloss: 1.43388\tvalid_1's multi_error: 0.577555\tvalid_1's multi_logloss: 1.51268\n",
      "[391]\tvalid_0's multi_error: 0.550241\tvalid_0's multi_logloss: 1.43371\tvalid_1's multi_error: 0.577639\tvalid_1's multi_logloss: 1.51266\n",
      "[392]\tvalid_0's multi_error: 0.550214\tvalid_0's multi_logloss: 1.43357\tvalid_1's multi_error: 0.577712\tvalid_1's multi_logloss: 1.51265\n",
      "[393]\tvalid_0's multi_error: 0.550102\tvalid_0's multi_logloss: 1.43342\tvalid_1's multi_error: 0.577691\tvalid_1's multi_logloss: 1.51263\n",
      "[394]\tvalid_0's multi_error: 0.550133\tvalid_0's multi_logloss: 1.43327\tvalid_1's multi_error: 0.577733\tvalid_1's multi_logloss: 1.51263\n",
      "[395]\tvalid_0's multi_error: 0.550066\tvalid_0's multi_logloss: 1.43311\tvalid_1's multi_error: 0.57767\tvalid_1's multi_logloss: 1.51261\n",
      "[396]\tvalid_0's multi_error: 0.550012\tvalid_0's multi_logloss: 1.43296\tvalid_1's multi_error: 0.577723\tvalid_1's multi_logloss: 1.51261\n",
      "[397]\tvalid_0's multi_error: 0.549976\tvalid_0's multi_logloss: 1.43281\tvalid_1's multi_error: 0.577796\tvalid_1's multi_logloss: 1.5126\n",
      "[398]\tvalid_0's multi_error: 0.549909\tvalid_0's multi_logloss: 1.43263\tvalid_1's multi_error: 0.577785\tvalid_1's multi_logloss: 1.51258\n",
      "[399]\tvalid_0's multi_error: 0.549878\tvalid_0's multi_logloss: 1.43246\tvalid_1's multi_error: 0.577796\tvalid_1's multi_logloss: 1.51255\n",
      "[400]\tvalid_0's multi_error: 0.549837\tvalid_0's multi_logloss: 1.4323\tvalid_1's multi_error: 0.577785\tvalid_1's multi_logloss: 1.51253\n",
      "[401]\tvalid_0's multi_error: 0.549747\tvalid_0's multi_logloss: 1.43213\tvalid_1's multi_error: 0.577744\tvalid_1's multi_logloss: 1.51252\n",
      "[402]\tvalid_0's multi_error: 0.549698\tvalid_0's multi_logloss: 1.43197\tvalid_1's multi_error: 0.577733\tvalid_1's multi_logloss: 1.5125\n",
      "[403]\tvalid_0's multi_error: 0.549671\tvalid_0's multi_logloss: 1.43182\tvalid_1's multi_error: 0.577691\tvalid_1's multi_logloss: 1.51251\n",
      "[404]\tvalid_0's multi_error: 0.549599\tvalid_0's multi_logloss: 1.43166\tvalid_1's multi_error: 0.577608\tvalid_1's multi_logloss: 1.51249\n",
      "[405]\tvalid_0's multi_error: 0.549532\tvalid_0's multi_logloss: 1.4315\tvalid_1's multi_error: 0.577587\tvalid_1's multi_logloss: 1.51248\n",
      "[406]\tvalid_0's multi_error: 0.54946\tvalid_0's multi_logloss: 1.43134\tvalid_1's multi_error: 0.577649\tvalid_1's multi_logloss: 1.51245\n",
      "[407]\tvalid_0's multi_error: 0.549348\tvalid_0's multi_logloss: 1.43118\tvalid_1's multi_error: 0.577691\tvalid_1's multi_logloss: 1.51245\n",
      "[408]\tvalid_0's multi_error: 0.549294\tvalid_0's multi_logloss: 1.43103\tvalid_1's multi_error: 0.577712\tvalid_1's multi_logloss: 1.51245\n",
      "[409]\tvalid_0's multi_error: 0.549218\tvalid_0's multi_logloss: 1.43088\tvalid_1's multi_error: 0.57766\tvalid_1's multi_logloss: 1.51244\n",
      "[410]\tvalid_0's multi_error: 0.549169\tvalid_0's multi_logloss: 1.43069\tvalid_1's multi_error: 0.577649\tvalid_1's multi_logloss: 1.51242\n",
      "[411]\tvalid_0's multi_error: 0.549124\tvalid_0's multi_logloss: 1.43054\tvalid_1's multi_error: 0.57767\tvalid_1's multi_logloss: 1.51239\n",
      "[412]\tvalid_0's multi_error: 0.549119\tvalid_0's multi_logloss: 1.43038\tvalid_1's multi_error: 0.577608\tvalid_1's multi_logloss: 1.51238\n",
      "[413]\tvalid_0's multi_error: 0.549074\tvalid_0's multi_logloss: 1.43021\tvalid_1's multi_error: 0.577681\tvalid_1's multi_logloss: 1.51237\n",
      "[414]\tvalid_0's multi_error: 0.548985\tvalid_0's multi_logloss: 1.43006\tvalid_1's multi_error: 0.577691\tvalid_1's multi_logloss: 1.51236\n",
      "[415]\tvalid_0's multi_error: 0.548922\tvalid_0's multi_logloss: 1.42988\tvalid_1's multi_error: 0.577733\tvalid_1's multi_logloss: 1.51234\n",
      "[416]\tvalid_0's multi_error: 0.548886\tvalid_0's multi_logloss: 1.42973\tvalid_1's multi_error: 0.577702\tvalid_1's multi_logloss: 1.51233\n",
      "[417]\tvalid_0's multi_error: 0.548783\tvalid_0's multi_logloss: 1.42958\tvalid_1's multi_error: 0.577681\tvalid_1's multi_logloss: 1.51232\n",
      "[418]\tvalid_0's multi_error: 0.54872\tvalid_0's multi_logloss: 1.42946\tvalid_1's multi_error: 0.577702\tvalid_1's multi_logloss: 1.51232\n",
      "[419]\tvalid_0's multi_error: 0.548702\tvalid_0's multi_logloss: 1.42931\tvalid_1's multi_error: 0.577775\tvalid_1's multi_logloss: 1.51232\n",
      "[420]\tvalid_0's multi_error: 0.548639\tvalid_0's multi_logloss: 1.42917\tvalid_1's multi_error: 0.577785\tvalid_1's multi_logloss: 1.51231\n",
      "[421]\tvalid_0's multi_error: 0.548563\tvalid_0's multi_logloss: 1.42903\tvalid_1's multi_error: 0.577806\tvalid_1's multi_logloss: 1.5123\n",
      "[422]\tvalid_0's multi_error: 0.548572\tvalid_0's multi_logloss: 1.42888\tvalid_1's multi_error: 0.577765\tvalid_1's multi_logloss: 1.5123\n",
      "[423]\tvalid_0's multi_error: 0.548586\tvalid_0's multi_logloss: 1.42871\tvalid_1's multi_error: 0.577733\tvalid_1's multi_logloss: 1.51229\n",
      "[424]\tvalid_0's multi_error: 0.548536\tvalid_0's multi_logloss: 1.42855\tvalid_1's multi_error: 0.577712\tvalid_1's multi_logloss: 1.51227\n",
      "[425]\tvalid_0's multi_error: 0.548446\tvalid_0's multi_logloss: 1.4284\tvalid_1's multi_error: 0.577691\tvalid_1's multi_logloss: 1.51226\n",
      "[426]\tvalid_0's multi_error: 0.548424\tvalid_0's multi_logloss: 1.42826\tvalid_1's multi_error: 0.577566\tvalid_1's multi_logloss: 1.51225\n",
      "[427]\tvalid_0's multi_error: 0.548384\tvalid_0's multi_logloss: 1.42813\tvalid_1's multi_error: 0.577618\tvalid_1's multi_logloss: 1.51225\n"
     ]
    },
    {
     "name": "stdout",
     "output_type": "stream",
     "text": [
      "[428]\tvalid_0's multi_error: 0.548366\tvalid_0's multi_logloss: 1.42799\tvalid_1's multi_error: 0.57766\tvalid_1's multi_logloss: 1.51224\n",
      "[429]\tvalid_0's multi_error: 0.548325\tvalid_0's multi_logloss: 1.42784\tvalid_1's multi_error: 0.57767\tvalid_1's multi_logloss: 1.51222\n",
      "[430]\tvalid_0's multi_error: 0.548231\tvalid_0's multi_logloss: 1.42768\tvalid_1's multi_error: 0.577566\tvalid_1's multi_logloss: 1.51222\n",
      "[431]\tvalid_0's multi_error: 0.54815\tvalid_0's multi_logloss: 1.42748\tvalid_1's multi_error: 0.577545\tvalid_1's multi_logloss: 1.51217\n",
      "[432]\tvalid_0's multi_error: 0.548128\tvalid_0's multi_logloss: 1.42731\tvalid_1's multi_error: 0.577566\tvalid_1's multi_logloss: 1.51216\n",
      "[433]\tvalid_0's multi_error: 0.548038\tvalid_0's multi_logloss: 1.42715\tvalid_1's multi_error: 0.577461\tvalid_1's multi_logloss: 1.51216\n",
      "[434]\tvalid_0's multi_error: 0.547966\tvalid_0's multi_logloss: 1.427\tvalid_1's multi_error: 0.577461\tvalid_1's multi_logloss: 1.51215\n",
      "[435]\tvalid_0's multi_error: 0.547881\tvalid_0's multi_logloss: 1.42686\tvalid_1's multi_error: 0.577618\tvalid_1's multi_logloss: 1.51215\n",
      "[436]\tvalid_0's multi_error: 0.547854\tvalid_0's multi_logloss: 1.42672\tvalid_1's multi_error: 0.577555\tvalid_1's multi_logloss: 1.51215\n",
      "[437]\tvalid_0's multi_error: 0.547796\tvalid_0's multi_logloss: 1.42658\tvalid_1's multi_error: 0.577608\tvalid_1's multi_logloss: 1.51215\n",
      "[438]\tvalid_0's multi_error: 0.547693\tvalid_0's multi_logloss: 1.42644\tvalid_1's multi_error: 0.57766\tvalid_1's multi_logloss: 1.51214\n",
      "[439]\tvalid_0's multi_error: 0.547693\tvalid_0's multi_logloss: 1.42629\tvalid_1's multi_error: 0.577576\tvalid_1's multi_logloss: 1.51213\n",
      "[440]\tvalid_0's multi_error: 0.547706\tvalid_0's multi_logloss: 1.42617\tvalid_1's multi_error: 0.577587\tvalid_1's multi_logloss: 1.51213\n",
      "[441]\tvalid_0's multi_error: 0.547459\tvalid_0's multi_logloss: 1.42599\tvalid_1's multi_error: 0.57767\tvalid_1's multi_logloss: 1.51211\n",
      "[442]\tvalid_0's multi_error: 0.547392\tvalid_0's multi_logloss: 1.42582\tvalid_1's multi_error: 0.57767\tvalid_1's multi_logloss: 1.5121\n",
      "[443]\tvalid_0's multi_error: 0.547267\tvalid_0's multi_logloss: 1.42566\tvalid_1's multi_error: 0.577628\tvalid_1's multi_logloss: 1.51209\n",
      "[444]\tvalid_0's multi_error: 0.547244\tvalid_0's multi_logloss: 1.42553\tvalid_1's multi_error: 0.577681\tvalid_1's multi_logloss: 1.51209\n",
      "[445]\tvalid_0's multi_error: 0.547217\tvalid_0's multi_logloss: 1.42538\tvalid_1's multi_error: 0.577733\tvalid_1's multi_logloss: 1.51208\n",
      "[446]\tvalid_0's multi_error: 0.547145\tvalid_0's multi_logloss: 1.42523\tvalid_1's multi_error: 0.577681\tvalid_1's multi_logloss: 1.51207\n",
      "[447]\tvalid_0's multi_error: 0.547051\tvalid_0's multi_logloss: 1.42508\tvalid_1's multi_error: 0.577608\tvalid_1's multi_logloss: 1.51206\n",
      "[448]\tvalid_0's multi_error: 0.547015\tvalid_0's multi_logloss: 1.42495\tvalid_1's multi_error: 0.577566\tvalid_1's multi_logloss: 1.51205\n",
      "[449]\tvalid_0's multi_error: 0.547015\tvalid_0's multi_logloss: 1.42481\tvalid_1's multi_error: 0.577639\tvalid_1's multi_logloss: 1.51204\n",
      "[450]\tvalid_0's multi_error: 0.546953\tvalid_0's multi_logloss: 1.42467\tvalid_1's multi_error: 0.577691\tvalid_1's multi_logloss: 1.51204\n",
      "[451]\tvalid_0's multi_error: 0.546908\tvalid_0's multi_logloss: 1.42452\tvalid_1's multi_error: 0.577628\tvalid_1's multi_logloss: 1.51203\n",
      "[452]\tvalid_0's multi_error: 0.546845\tvalid_0's multi_logloss: 1.42439\tvalid_1's multi_error: 0.577597\tvalid_1's multi_logloss: 1.51203\n",
      "[453]\tvalid_0's multi_error: 0.546778\tvalid_0's multi_logloss: 1.42424\tvalid_1's multi_error: 0.577639\tvalid_1's multi_logloss: 1.51202\n",
      "[454]\tvalid_0's multi_error: 0.546733\tvalid_0's multi_logloss: 1.42411\tvalid_1's multi_error: 0.57766\tvalid_1's multi_logloss: 1.51202\n",
      "[455]\tvalid_0's multi_error: 0.546647\tvalid_0's multi_logloss: 1.42395\tvalid_1's multi_error: 0.577639\tvalid_1's multi_logloss: 1.51201\n",
      "[456]\tvalid_0's multi_error: 0.54654\tvalid_0's multi_logloss: 1.42378\tvalid_1's multi_error: 0.577744\tvalid_1's multi_logloss: 1.512\n",
      "Early stopping, best iteration is:\n",
      "[356]\tvalid_0's multi_error: 0.552125\tvalid_0's multi_logloss: 1.43936\tvalid_1's multi_error: 0.577409\tvalid_1's multi_logloss: 1.51322\n",
      "Eval ACC: 0.42259138299208643\n"
     ]
    }
   ],
   "source": [
    "clf = lgb.LGBMClassifier(**params)\n",
    "    \n",
    "clf.fit(df_train[feature_cols], df_train[label_col], early_stopping_rounds=100, eval_set=[(df_train[feature_cols], df_train[label_col]), (df_eval[feature_cols], df_eval[label_col])], eval_metric='multi_error', verbose=True, categorical_feature=cat_cols)\n",
    "\n",
    "eval_score = accuracy_score(df_eval[label_col], clf.predict(df_eval[feature_cols]))\n",
    "\n",
    "print('Eval ACC: {}'.format(eval_score))"
   ]
  },
  {
   "cell_type": "code",
   "execution_count": 65,
   "metadata": {},
   "outputs": [
    {
     "name": "stdout",
     "output_type": "stream",
     "text": [
      "{'learning_rate': 0.06, 'max_depth': 50, 'n_estimators': 356, 'objective': 'multiclass', 'boosting_type': 'gbdt', 'subsample': 0.7, 'random_state': 42, 'colsample_bytree': 0.7, 'min_data_in_leaf': 55, 'reg_alpha': 1.6, 'reg_lambda': 1.1}\n"
     ]
    }
   ],
   "source": [
    "best_iter = clf.best_iteration_\n",
    "params['n_estimators'] = best_iter\n",
    "print(params)"
   ]
  },
  {
   "cell_type": "code",
   "execution_count": 66,
   "metadata": {},
   "outputs": [],
   "source": [
    "df_train = pd.concat((df_train, df_eval))\n"
   ]
  },
  {
   "cell_type": "code",
   "execution_count": 67,
   "metadata": {},
   "outputs": [
    {
     "data": {
      "text/plain": [
       "{'learning_rate': 0.06,\n",
       " 'max_depth': 50,\n",
       " 'n_estimators': 356,\n",
       " 'objective': 'multiclass',\n",
       " 'boosting_type': 'gbdt',\n",
       " 'subsample': 0.7,\n",
       " 'random_state': 42,\n",
       " 'colsample_bytree': 0.7,\n",
       " 'min_data_in_leaf': 55,\n",
       " 'reg_alpha': 1.6,\n",
       " 'reg_lambda': 1.1}"
      ]
     },
     "execution_count": 67,
     "metadata": {},
     "output_type": "execute_result"
    }
   ],
   "source": [
    "params"
   ]
  },
  {
   "cell_type": "code",
   "execution_count": 68,
   "metadata": {},
   "outputs": [
    {
     "name": "stdout",
     "output_type": "stream",
     "text": [
      "ACC: 0.4425696681928664\n"
     ]
    }
   ],
   "source": [
    "clf = lgb.LGBMClassifier(**params)\n",
    "\n",
    "clf.fit(df_train[feature_cols], df_train[label_col], eval_metric='multi_error', verbose=False, categorical_feature=cat_cols)\n",
    "\n",
    "eval_score_acc = accuracy_score(df_train[label_col], clf.predict(df_train[feature_cols]))\n",
    "\n",
    "print('ACC: {}'.format(eval_score_acc))"
   ]
  },
  {
   "cell_type": "code",
   "execution_count": 69,
   "metadata": {},
   "outputs": [
    {
     "data": {
      "text/plain": [
       "array([2, 5, 2, ..., 1, 1, 5])"
      ]
     },
     "execution_count": 69,
     "metadata": {},
     "output_type": "execute_result"
    }
   ],
   "source": [
    "preds = clf.predict(df_test[feature_cols])\n",
    "preds"
   ]
  },
  {
   "cell_type": "code",
   "execution_count": 70,
   "metadata": {},
   "outputs": [
    {
     "data": {
      "image/png": "[encoded data removed]",
      "text/plain": [
       "<Figure size 864x3600 with 1 Axes>"
      ]
     },
     "metadata": {},
     "output_type": "display_data"
    }
   ],
   "source": [
    "plt.rcParams['figure.figsize'] = (12,50)\n",
    "lgb.plot_importance(clf)\n",
    "plt.show()"
   ]
  },
  {
   "cell_type": "code",
   "execution_count": 72,
   "metadata": {},
   "outputs": [],
   "source": [
    "preds = le.inverse_transform(preds)\n"
   ]
  },
  {
   "cell_type": "code",
   "execution_count": 71,
   "metadata": {},
   "outputs": [
    {
     "data": {
      "text/plain": [
       "array([2, 5, 2, ..., 1, 1, 5])"
      ]
     },
     "execution_count": 71,
     "metadata": {},
     "output_type": "execute_result"
    }
   ],
   "source": [
    "preds"
   ]
  },
  {
   "cell_type": "code",
   "execution_count": 73,
   "metadata": {},
   "outputs": [
    {
     "data": {
      "text/plain": [
       "array(['21-30', '51-60', '21-30', ..., '11-20', '11-20', '51-60'],\n",
       "      dtype=object)"
      ]
     },
     "execution_count": 73,
     "metadata": {},
     "output_type": "execute_result"
    }
   ],
   "source": [
    "preds"
   ]
  },
  {
   "cell_type": "code",
   "execution_count": 77,
   "metadata": {},
   "outputs": [],
   "source": [
    "test = pd.read_csv(\"test.csv\")"
   ]
  },
  {
   "cell_type": "code",
   "execution_count": 78,
   "metadata": {},
   "outputs": [],
   "source": [
    "submit = pd.DataFrame({'case_id': test.case_id, 'Stay': preds})\n"
   ]
  },
  {
   "cell_type": "code",
   "execution_count": 79,
   "metadata": {},
   "outputs": [
    {
     "data": {
      "text/html": [
       "<div>\n",
       "<style scoped>\n",
       "    .dataframe tbody tr th:only-of-type {\n",
       "        vertical-align: middle;\n",
       "    }\n",
       "\n",
       "    .dataframe tbody tr th {\n",
       "        vertical-align: top;\n",
       "    }\n",
       "\n",
       "    .dataframe thead th {\n",
       "        text-align: right;\n",
       "    }\n",
       "</style>\n",
       "<table border=\"1\" class=\"dataframe\">\n",
       "  <thead>\n",
       "    <tr style=\"text-align: right;\">\n",
       "      <th></th>\n",
       "      <th>case_id</th>\n",
       "      <th>Stay</th>\n",
       "    </tr>\n",
       "  </thead>\n",
       "  <tbody>\n",
       "    <tr>\n",
       "      <th>0</th>\n",
       "      <td>318439</td>\n",
       "      <td>21-30</td>\n",
       "    </tr>\n",
       "    <tr>\n",
       "      <th>1</th>\n",
       "      <td>318440</td>\n",
       "      <td>51-60</td>\n",
       "    </tr>\n",
       "    <tr>\n",
       "      <th>2</th>\n",
       "      <td>318441</td>\n",
       "      <td>21-30</td>\n",
       "    </tr>\n",
       "    <tr>\n",
       "      <th>3</th>\n",
       "      <td>318442</td>\n",
       "      <td>21-30</td>\n",
       "    </tr>\n",
       "    <tr>\n",
       "      <th>4</th>\n",
       "      <td>318443</td>\n",
       "      <td>51-60</td>\n",
       "    </tr>\n",
       "  </tbody>\n",
       "</table>\n",
       "</div>"
      ],
      "text/plain": [
       "   case_id   Stay\n",
       "0   318439  21-30\n",
       "1   318440  51-60\n",
       "2   318441  21-30\n",
       "3   318442  21-30\n",
       "4   318443  51-60"
      ]
     },
     "execution_count": 79,
     "metadata": {},
     "output_type": "execute_result"
    }
   ],
   "source": [
    "submit.head()\n"
   ]
  },
  {
   "cell_type": "code",
   "execution_count": 80,
   "metadata": {},
   "outputs": [],
   "source": [
    "submit.to_csv('submission.csv', index=False)"
   ]
  }
 ],
 "metadata": {
  "kernelspec": {
   "display_name": "Python 3",
   "language": "python",
   "name": "python3"
  },
  "language_info": {
   "codemirror_mode": {
    "name": "ipython",
    "version": 3
   },
   "file_extension": ".py",
   "mimetype": "text/x-python",
   "name": "python",
   "nbconvert_exporter": "python",
   "pygments_lexer": "ipython3",
   "version": "3.7.6"
  }
 },
 "nbformat": 4,
 "nbformat_minor": 4
}
